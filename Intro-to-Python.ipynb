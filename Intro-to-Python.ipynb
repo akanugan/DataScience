{
 "cells": [
  {
   "cell_type": "markdown",
   "metadata": {},
   "source": [
    "# Control Structures "
   ]
  },
  {
   "cell_type": "markdown",
   "metadata": {},
   "source": [
    "## Selection Statements : if, elif, else"
   ]
  },
  {
   "cell_type": "markdown",
   "metadata": {},
   "source": [
    "### Example 1:"
   ]
  },
  {
   "cell_type": "code",
   "execution_count": null,
   "metadata": {},
   "outputs": [],
   "source": [
    "###################################################\n",
    "#  Filename : examine_numbers                     #\n",
    "#  Purpose : To demonstrate console input and     #\n",
    "#   usage of the following control structures     #\n",
    "#            1. if elif else                      #\n",
    "#            2. while loop                        #\n",
    "#  Author : Niel S.                               #\n",
    "#  The English Tea Company LLC                    #\n",
    "###################################################\n",
    "\n",
    "#The main function: It drives the program.\n",
    "def main():\n",
    "    \n",
    "    #Prompt user to enter a number. Store the input \n",
    "    # and identify it with x\n",
    "    x = input(\"Enter a positive number: \")\n",
    "    \n",
    "    #Test if 'x' is numeric, if yes then enter loop else go to statement after loop.\n",
    "    while (x.isnumeric()):\n",
    "        x = int (x)\n",
    "        if x == 0:\n",
    "            print('The number ',x,' is a multiple of all numbers.')\n",
    "        else:    \n",
    "            if (x%2==0 and x%3==0):\n",
    "                print ('The number ',x,' is a multiple of both 2 and 3.')\n",
    "            elif x%2 == 0:\n",
    "                print ('The number ',x,' is a multiple of 2 but not 3')\n",
    "            elif x%3 == 0:\n",
    "                print ('The number ',x,' is a multiple of 3 but not 2')\n",
    "            else:\n",
    "                print ('The number ',x,' is a not a multiple of either 2 or 3')           \n",
    "        # Get the value of x for next iteration. Enter any non numeric value to exit the program.\n",
    "        x = input(\"Enter a positive number: \")\n",
    "        \n",
    "    #Final statement. Bid user a polite good bye   \n",
    "    print ('Good Bye, you entered a negative number')\n",
    "\n",
    "if __name__ == '__main__':\n",
    "    main()"
   ]
  },
  {
   "cell_type": "markdown",
   "metadata": {},
   "source": [
    "### Understanding the syntax"
   ]
  },
  {
   "cell_type": "code",
   "execution_count": 169,
   "metadata": {},
   "outputs": [
    {
     "name": "stdout",
     "output_type": "stream",
     "text": [
      "Q = 0.33\n"
     ]
    }
   ],
   "source": [
    "#Set Default Value for Q\n",
    "Q = 0; Y = 30; X = 10;\n",
    "if Y != 0.0 :\n",
    "    Q = X/Y    \n",
    "print('Q = {0:<2.2f}'.format(Q))    "
   ]
  },
  {
   "cell_type": "markdown",
   "metadata": {},
   "source": [
    "### Example 2:"
   ]
  },
  {
   "cell_type": "code",
   "execution_count": 170,
   "metadata": {},
   "outputs": [
    {
     "name": "stdout",
     "output_type": "stream",
     "text": [
      "Enter any +/- number: 10\n",
      "The absolute value of  10.0  is  10.0\n",
      "Enter another +/- number to continue or anything else to exit: -10\n",
      "The absolute value of  -10.0  is  10.0\n",
      "Enter another +/- number to continue or anything else to exit: 0\n",
      "The absolute value of  0.0  is  0.0\n",
      "Enter another +/- number to continue or anything else to exit:  \n",
      "Good Bye !!\n"
     ]
    }
   ],
   "source": [
    "###################################################\n",
    "#  Filename : absolute_value                      #\n",
    "#  Purpose : To demonstrate console input and     #\n",
    "#   usage of the following control structures     #\n",
    "#            1. if elif else                      # \n",
    "#            2. while loop                        #\n",
    "#  Author : Niel S.                               #\n",
    "#  The English Tea Company LLC                    #\n",
    "###################################################\n",
    "\n",
    "#The main function\n",
    "def main():\n",
    "    #Read data for first iteration\n",
    "    X = input(\"Enter any +/- number: \")\n",
    "    #Shave '-' from negative numbers before using 'isnumeric'\n",
    "    while (X.replace('-','').isnumeric()): \n",
    "        X = float (X)\n",
    "        #Initialize abs_val, assign value using if-else structure\n",
    "        abs_val = None\n",
    "        if X < 0:\n",
    "            abs_val = -1 * X\n",
    "        else :\n",
    "            abs_val = X\n",
    "        #Print the information\n",
    "        print (\"The absolute value of \",X,\" is \",abs_val)\n",
    "        \n",
    "        X = input(\"Enter another +/- number to continue or anything else to exit: \")\n",
    "        \n",
    "    print ('Good Bye !!')\n",
    "    \n",
    "if __name__ == '__main__':\n",
    "    main()"
   ]
  },
  {
   "cell_type": "markdown",
   "metadata": {},
   "source": [
    "### Understanding the syntax"
   ]
  },
  {
   "cell_type": "code",
   "execution_count": 171,
   "metadata": {},
   "outputs": [
    {
     "name": "stdout",
     "output_type": "stream",
     "text": [
      "absolute number of -2 is 2\n"
     ]
    }
   ],
   "source": [
    "def mode(Y):\n",
    "    mode_Y = None\n",
    "    if Y < 0:  # If y<0 then absolute value is -y\n",
    "        mode_Y = -1*Y\n",
    "    elif Y > 0: # If y>0 then absolute value is y\n",
    "        mode_Y = Y\n",
    "    else:\n",
    "        mode_Y = 0\n",
    "    print('absolute number of {0:0} is {1:0}'.format(Y, mode_Y))    \n",
    "\n",
    "if __name__ == '__main__':\n",
    "    mode(-2)    "
   ]
  },
  {
   "cell_type": "markdown",
   "metadata": {},
   "source": [
    "### Example 3:"
   ]
  },
  {
   "cell_type": "code",
   "execution_count": null,
   "metadata": {},
   "outputs": [
    {
     "name": "stdout",
     "output_type": "stream",
     "text": [
      "Enter Numerator: 10\n",
      "Enter Denominator: 30\n",
      "Quotient: 0.333\n"
     ]
    }
   ],
   "source": [
    "###################################################\n",
    "#  Filename : divide_numbers                      #\n",
    "#  Purpose : To demonstrate console input and     #\n",
    "#   usage of the following control structures     #\n",
    "#            1. if elif else                      #\n",
    "#            2. while loop                        #\n",
    "#  Author : Niel S.                               #\n",
    "#  The English Tea Company LLC                    #\n",
    "###################################################\n",
    "\n",
    "def main():\n",
    "    #Read data from command line\n",
    "    X = input (\"Enter Numerator: \")\n",
    "    Y = input (\"Enter Denominator: \")\n",
    "    \n",
    "    #While there is a numeric input\n",
    "    while( X.isnumeric() and Y.isnumeric()):\n",
    "        X = float (X) #Is it necessary?\n",
    "        Y = float (Y)\n",
    "        Q = None\n",
    "        if Y != 0:\n",
    "            Q = X/Y\n",
    "            print ('Quotient: {0:<0.3f}'.format(Q))\n",
    "        else:\n",
    "            print ('Error: Division by 0 is not defined.')\n",
    "        X = input (\"Enter Numerator: \")\n",
    "        Y = input (\"Enter Denominator: \")\n",
    "    \n",
    "    print ('Good Bye, either numerator or denominator or both are not numerics')\n",
    "\n",
    "if __name__ == '__main__':\n",
    "    main()"
   ]
  },
  {
   "cell_type": "markdown",
   "metadata": {},
   "source": [
    "### Example 4: \n",
    "Compound interest can be calculated using the formula \n",
    "\\begin{equation*} \n",
    "A=P\\times(1+{\\frac{r}{n}})^{nt}\n",
    "\\end{equation*}\n",
    "\n",
    "where\n",
    "    P : Principal amount (P)\n",
    "    r : Annual interest rate\n",
    "    t : Time factor (t)\n",
    "    n : Number of compound periods per year.\n",
    "\n",
    "Following program prompts user to enter principal amount and time of loan in years. Its uses interest rate as 2.5 APR at compounding rate of n = 4 (quarterly compounded) and prints the final amount payable at the end of loan term."
   ]
  },
  {
   "cell_type": "code",
   "execution_count": null,
   "metadata": {},
   "outputs": [],
   "source": [
    "def main():\n",
    "    \n",
    "    # Fixed parameters\n",
    "    r = 0.025\n",
    "    n = 4\n",
    "    \n",
    "    #User supplied parameters\n",
    "    P = input('Enter principal amount: ')\n",
    "    t = input('Enter duration of loan in years: ')\n",
    "    \n",
    "    if not (P.isnumeric() and t.isnumeric()):\n",
    "        print ('Please enter numeric values only')\n",
    "    elif (float(t)<=1 or float(P)<=0):\n",
    "        print ('The principal amount P must be more than 0')\n",
    "        print ('The time duration must be more than 1')\n",
    "    else:\n",
    "        P = float(P)\n",
    "        t = float(t)\n",
    "        A = P * pow((1 + r/n),(n*t))\n",
    "        print ('The total amount payable is: {0:<0.2f}'.format(A))\n",
    "    \n",
    "    \n",
    "    \n",
    "if __name__ == '__main__':\n",
    "    main()"
   ]
  },
  {
   "cell_type": "markdown",
   "metadata": {},
   "source": [
    "### Example 5: Mortgage Calculator\n",
    "Monthly payment and loan balance on amortized mortgages is define as \n",
    "\\begin{equation*} \n",
    "\\frac{L\\times(1+c)^n}{(1+c)^n - 1}\n",
    "\\end{equation*}\n",
    "\n",
    "where\n",
    "\n",
    "    L = Total amount borrowed\n",
    "    c = Monthly rate of interest\n",
    "    n = Number of months\n",
    "\n"
   ]
  },
  {
   "cell_type": "code",
   "execution_count": null,
   "metadata": {},
   "outputs": [],
   "source": [
    "###################################################\n",
    "#  Filename : simple_mortgage_calculator          #\n",
    "#  Purpose :  To demonstrate reading data from    #\n",
    "#   screen and use it in a formula.               #\n",
    "#        * How to translate algebraic             #\n",
    "#    expressions into python expressions          #\n",
    "#                                                 #\n",
    "#  Author : Niel S.                               #\n",
    "#  The English Tea Company LLC                    #\n",
    "###################################################\n",
    "\n",
    "\n",
    "def main():\n",
    "    \n",
    "    run_flag = True\n",
    "    \n",
    "    while(run_flag == True):\n",
    "    \n",
    "        L = input ('Enter an amount: ')\n",
    "        APR = input ('Enter Annual Percentage Rate: ')\n",
    "        N = input ('Enter Duration in years: ')\n",
    "\n",
    "        #Convert the values into floating point numbers.\n",
    "        L   = float(L)\n",
    "        c   = float (APR)/1200.  #convert annual percentage to monthly rate. \n",
    "        n   = float (N)*12. #convert number of years to number of months.\n",
    "\n",
    "        #Monthly payment is calculated using a formula.\n",
    "        P = L*(c*(1 + c)**n)/((1 + c)**n - 1)\n",
    "\n",
    "        print ('Monthly Payment: ',round(P,0)) #not my style to round a float\n",
    "        \n",
    "        rflag = input('Do you wish to enter another amount (Y for Yes):').strip().upper()\n",
    "        if not rflag == 'Y':\n",
    "            run_flag = False\n",
    "        \n",
    "        \n",
    "\n",
    "if __name__ == '__main__':\n",
    "    main()"
   ]
  },
  {
   "cell_type": "markdown",
   "metadata": {},
   "source": [
    "# Loop: while, for"
   ]
  },
  {
   "cell_type": "code",
   "execution_count": null,
   "metadata": {},
   "outputs": [],
   "source": [
    "c = 0\n",
    "for i in range(0,11): # Anil, index starts from 0, unlike as what you said\n",
    "    print (i) \n",
    "    c = c+1\n",
    "print ('I am out of the loop with counter = {0:0}'.format(c))"
   ]
  },
  {
   "cell_type": "code",
   "execution_count": null,
   "metadata": {},
   "outputs": [],
   "source": [
    "in_number = 4; number = in_number\n",
    "factorial = 1\n",
    "while (number > 1):\n",
    "    factorial = factorial * number\n",
    "    number = number -1 \n",
    "print ('The factorial of number {0:0} is {1:0}'.format(in_number, factorial))"
   ]
  },
  {
   "cell_type": "markdown",
   "metadata": {},
   "source": [
    "# Jump Statements: continue, break"
   ]
  },
  {
   "cell_type": "code",
   "execution_count": null,
   "metadata": {},
   "outputs": [],
   "source": [
    "c = 0\n",
    "for i in range(0,11,2): \n",
    "    print (i) \n",
    "    if i == 0: \n",
    "        print ('Lets not start from 0'); continue;\n",
    "    c = c+1    \n",
    "print ('I am out of the loop with counter = {0:0}'.format(c))"
   ]
  },
  {
   "cell_type": "code",
   "execution_count": null,
   "metadata": {},
   "outputs": [],
   "source": [
    "for n in range(2, 10):\n",
    "    for x in range(2, n):\n",
    "        if n % x == 0:\n",
    "            print (n, 'equals', x, '*', n/x)\n",
    "            break;\n",
    "        else:\n",
    "            print (n, ' is a prime number')\n",
    "            break;"
   ]
  },
  {
   "cell_type": "markdown",
   "metadata": {},
   "source": [
    "# List"
   ]
  },
  {
   "cell_type": "code",
   "execution_count": null,
   "metadata": {},
   "outputs": [],
   "source": [
    "max = 0; min = 100000;\n",
    "list = [2, 9, 10, 100, 30, 5, 500, 11]\n",
    "for i in list:\n",
    "    if (i > max): max = i; \n",
    "    if (i < min): min = i; \n",
    "print ('max:', max, 'min:', min)        "
   ]
  },
  {
   "cell_type": "code",
   "execution_count": null,
   "metadata": {},
   "outputs": [],
   "source": [
    "prime = []\n",
    "for n in range(2, 10):\n",
    "    for x in range(2, n):\n",
    "        if n % x == 0: break;\n",
    "        else: prime.append(n); break;\n",
    "print('prime numbers: ', prime)\n"
   ]
  },
  {
   "cell_type": "code",
   "execution_count": null,
   "metadata": {},
   "outputs": [],
   "source": []
  }
 ],
 "metadata": {
  "kernelspec": {
   "display_name": "Python 3",
   "language": "python",
   "name": "python3"
  },
  "language_info": {
   "codemirror_mode": {
    "name": "ipython",
    "version": 3
   },
   "file_extension": ".py",
   "mimetype": "text/x-python",
   "name": "python",
   "nbconvert_exporter": "python",
   "pygments_lexer": "ipython3",
   "version": "3.6.8"
  }
 },
 "nbformat": 4,
 "nbformat_minor": 2
}
