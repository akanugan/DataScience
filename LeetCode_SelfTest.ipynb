{
 "cells": [
  {
   "cell_type": "markdown",
   "metadata": {},
   "source": [
    "Given an array of integers, return indices of the two numbers such that they add up to a specific target.\n",
    "\n",
    "You may assume that each input would have exactly one solution, and you may not use the same element twice.\n",
    "\n",
    "#### Example:\n",
    "<br>\n",
    "Given nums = [2, 7, 11, 15], target = 9,\n",
    "\n",
    "Because nums[0] + nums[1] = 2 + 7 = 9,\n",
    "return [0, 1].\n",
    "</br>"
   ]
  },
  {
   "cell_type": "code",
   "execution_count": null,
   "metadata": {},
   "outputs": [],
   "source": [
    "class Solution:\n",
    "    def __init__(self, nums, target):\n",
    "        self.nums = nums; self.target = target\n",
    "        \n",
    "    def twoSum(self):\n",
    "        result=[]\n",
    "        for i, l in enumerate(self.nums):\n",
    "            for j, n in enumerate(self.nums):\n",
    "                if l + n == self.target:\n",
    "                    result.extend((i, j))\n",
    "                #else: break\n",
    "        return result        \n",
    "\n",
    "nums_ex = [2, 4, 5, 7, 11, 15]\n",
    "target_ex = 9  \n",
    "\n",
    "pickIndices = Solution(nums_ex, target_ex)\n",
    "mylist = pickIndices.twoSum()\n",
    "print (mylist)"
   ]
  },
  {
   "cell_type": "code",
   "execution_count": null,
   "metadata": {},
   "outputs": [],
   "source": []
  },
  {
   "cell_type": "code",
   "execution_count": null,
   "metadata": {},
   "outputs": [],
   "source": []
  }
 ],
 "metadata": {
  "kernelspec": {
   "display_name": "Python 3",
   "language": "python",
   "name": "python3"
  },
  "language_info": {
   "codemirror_mode": {
    "name": "ipython",
    "version": 3
   },
   "file_extension": ".py",
   "mimetype": "text/x-python",
   "name": "python",
   "nbconvert_exporter": "python",
   "pygments_lexer": "ipython3",
   "version": "3.6.8"
  }
 },
 "nbformat": 4,
 "nbformat_minor": 2
}
