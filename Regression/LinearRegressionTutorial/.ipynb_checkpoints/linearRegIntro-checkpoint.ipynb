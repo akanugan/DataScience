{
 "cells": [
  {
   "cell_type": "markdown",
   "metadata": {},
   "source": [
    "In this tutorial we will learn data exploration and will build a predictive model using Linear Regression Algorithm. Courtesy: http://theenglishtea.company/linear-regression-for-impatient-programmer/"
   ]
  },
  {
   "cell_type": "code",
   "execution_count": 103,
   "metadata": {},
   "outputs": [],
   "source": [
    "import numpy as np\n",
    "#import scipy as scp\n",
    "from scipy import stats\n",
    "import matplotlib.pyplot as plt\n",
    "import math"
   ]
  },
  {
   "cell_type": "markdown",
   "metadata": {},
   "source": [
    "Load the data, that has two columns of float numbers say x and y. We will first arrange data in a list of lists, such as data = [[x1,y1,], [x2,y2], ... [xN,yN]]."
   ]
  },
  {
   "cell_type": "code",
   "execution_count": 95,
   "metadata": {},
   "outputs": [
    {
     "name": "stdout",
     "output_type": "stream",
     "text": [
      "[[6.4063, 45.8259], [1.3291, 14.6734], [11.793, 43.5116]]\n",
      "Total data entries 999.0\n"
     ]
    }
   ],
   "source": [
    "datafile = open(\"/Users/skhalil/Desktop/Analysis/DataScience/Regression/LinearData.txt\",'r')\n",
    "datafile.readline()\n",
    "data = [ [float(word) for word in line.split()] for line in datafile.readlines()]\n",
    "# print first three lines\n",
    "print (data[0:3])\n",
    "# total data entries\n",
    "n = float (len (data))\n",
    "print('Total data entries', n)\n",
    "# Close the data file.\n",
    "datafile.close()"
   ]
  },
  {
   "cell_type": "markdown",
   "metadata": {},
   "source": [
    "Lets also split the data pairs into lists of x and y, such as x = [x1, x2, .., xN], y = [y1, y2, ..., yN]"
   ]
  },
  {
   "cell_type": "code",
   "execution_count": 115,
   "metadata": {},
   "outputs": [
    {
     "name": "stdout",
     "output_type": "stream",
     "text": [
      "1 2\n"
     ]
    }
   ],
   "source": [
    "#dataX = [XY[0] for XY in data]\n",
    "#dataY = [XY[1] for XY in data]\n",
    "n = float(len (dataX))\n",
    "dataX = [1, 2, 3, 4, 5, 6, 7]\n",
    "dataY = [2, 7, 8, 13, 14, 20, 19]\n",
    "\n",
    "print(dataX[0], dataY[0])"
   ]
  },
  {
   "cell_type": "markdown",
   "metadata": {},
   "source": [
    "Lets visualize the data first. Its a good idea to write a plotting function for reusability and asthetics."
   ]
  },
  {
   "cell_type": "code",
   "execution_count": 116,
   "metadata": {},
   "outputs": [
    {
     "data": {
      "image/png": "[encoded data removed]",
      "text/plain": [
       "<Figure size 432x288 with 1 Axes>"
      ]
     },
     "metadata": {},
     "output_type": "display_data"
    }
   ],
   "source": [
    "def scatterPlot(dataX,dataY):\n",
    "        fig = plt.figure()\n",
    "        ax = plt.subplot(111)\n",
    "        ax.scatter(dataX, dataY,label='data')\n",
    "        plt.title('Some Very Attractive Title')\n",
    "        plt.xlabel('x')\n",
    "        plt.ylabel('y')\n",
    "        axes = plt.gca()\n",
    "        axes.set_xlim([0,18])\n",
    "        axes.set_ylim([0,190])\n",
    "        ax.legend(loc='upper center', bbox_to_anchor=(0.2, 0.9), shadow=False, ncol=2)\n",
    "        fig.patch.set_facecolor('white') #sets the color of the border\n",
    "        plt.show()\n",
    "scatterPlot(dataX,dataY)        "
   ]
  },
  {
   "cell_type": "markdown",
   "metadata": {},
   "source": [
    "Lets explore basic properties, such as mean, variance, standard deviation\n",
    "\n",
    "Mean: \\begin{equation*}\\bar{x} = \\frac{\\sum{x}}{n}; \\bar{y} = \\frac{\\sum{y}}{n} \\end{equation*}\n",
    "\n",
    "Unbiased Variance: \\begin{equation*} s_{x} = \\frac{\\sum{(x-\\bar{x})}^2}{(n-1)};  s_{y} = \\frac{\\sum{(y-\\bar{y})}^2}{(n-1)}\\end{equation*}\n",
    "\n",
    "Standard deviation: \\begin{equation*} \\sigma_x = \\sqrt s_{x}; \\sigma_y = \\sqrt s_{y} \\end{equation*}\n",
    "\n",
    "Covariance: \\begin{equation*} Cov(x,y) = \\frac{\\sum[(x-\\bar{x})(y-\\bar{y})]}{(n-1)}\\end{equation*}\n",
    "\n",
    "Correlation: \\begin{equation*}  \\frac{Cov(x,y)}{\\sigma_x  \\sigma_y} \\end{equation*}\n"
   ]
  },
  {
   "cell_type": "code",
   "execution_count": 117,
   "metadata": {},
   "outputs": [
    {
     "name": "stdout",
     "output_type": "stream",
     "text": [
      "Average X:  0.028  Average Y:  0.083\n"
     ]
    }
   ],
   "source": [
    "#average\n",
    "xbar = sum(dataX)/n\n",
    "ybar = sum(dataY)/n\n",
    "\n",
    "print(\"Average X: \", round(xbar,3),\" Average Y: \", round(ybar,3))"
   ]
  },
  {
   "cell_type": "code",
   "execution_count": 118,
   "metadata": {},
   "outputs": [
    {
     "name": "stdout",
     "output_type": "stream",
     "text": [
      "x variance: 0.139   x standard deviation: 0.372\n",
      "y variance: 1.232   y standard deviation: 1.11\n",
      "covariance: 0.411   correlation: 0.995\n"
     ]
    }
   ],
   "source": [
    "# variance, sd, covaraince\n",
    "varianceX = sum([pow(x-xbar,2) for x in dataX])/(n-1)\n",
    "varianceY = sum([pow(y-ybar,2) for y in dataY])/(n-1)\n",
    "stdevX = math.sqrt(varianceX)\n",
    "stdevY = math.sqrt(varianceY)\n",
    "print(\"x variance:\", round(varianceX,3), \"  x standard deviation:\", round(stdevX,3))\n",
    "print(\"y variance:\", round(varianceY,3), \"  y standard deviation:\", round(stdevY,3))\n",
    "covariance = sum( [(x-xbar)*(y-ybar) for x,y in zip(dataX,dataY)] ) / (n-1)\n",
    "correlation = covariance/(stdevX*stdevY)\n",
    "print(\"covariance:\", round(covariance,3), \"  correlation:\", round(correlation,3))"
   ]
  },
  {
   "cell_type": "code",
   "execution_count": 119,
   "metadata": {},
   "outputs": [
    {
     "name": "stdout",
     "output_type": "stream",
     "text": [
      "x variance: 4.667\n",
      "y variance: 43.143\n",
      "covariance Matrix:\n",
      " [[ 4.66666667 13.83333333]\n",
      " [13.83333333 43.14285714]]\n",
      "covariance: 13.833\n"
     ]
    }
   ],
   "source": [
    "# fun checks using numpy\n",
    "varX = np.var(dataX, ddof=1)\n",
    "varY = np.var(dataY, ddof=1)\n",
    "print(\"x variance:\", round(varX,3))\n",
    "print(\"y variance:\", round(varY,3))\n",
    "# matrix with cov of all elements\n",
    "covMatrix = np.cov(dataX, dataY, ddof=1) \n",
    "print ('covariance Matrix:\\n', covMatrix)\n",
    "# pick the non-diagonal value\n",
    "cov = covMatrix.item((0,1))\n",
    "print(\"covariance:\", round(cov,3))"
   ]
  },
  {
   "cell_type": "markdown",
   "metadata": {},
   "source": [
    "A linear model that predicts data: \\begin{equation*} Y^{\\prime} = mX+b \\end{equation*}, where m is the slope and b is the y-intercept, and our goal is to find m and b, that will minimizes the mean squared error, define as \\begin{equation*} MSE = \\frac{\\sum_{i=1}^{n}{(Y_i-Y^{\\prime}_i)}^2}{(n-2)}\\end{equation*}\n",
    "\n",
    "Minimizing the MSE, results into soloutions for m and b as follows:\n",
    " \n",
    " \n",
    "\\begin{equation*} m = \\frac{n (\\sum xy) - (\\sum x)(\\sum y)}{n(\\sum x^2) - (\\sum x)^2} = \\frac{\\overline{xy} - \\bar{x}\\bar{y}}{\\overline{x^2} - (\\bar{x})^2} \\end{equation*}\n",
    "\n",
    "\\begin{equation*} b = \\frac{\\sum y \\sum x^2 - \\sum x \\sum (xy)}{n(\\sum x^2) -  (\\sum x)^2} = \\frac{\\bar{y}\\sum x^2 - \\bar{x} \\sum (xy)}{\\sum x^2 - (\\sum x)^2} = \\bar{y} - m \\bar{x}\\end{equation*}"
   ]
  },
  {
   "cell_type": "code",
   "execution_count": 120,
   "metadata": {},
   "outputs": [
    {
     "name": "stdout",
     "output_type": "stream",
     "text": [
      "m:  2.964   b:  0.0\n"
     ]
    }
   ],
   "source": [
    "dataX2 = [x*x for x in dataX]\n",
    "dataY2 = [y*y for y in dataY]\n",
    "dataXY = [x*y for x,y in zip(dataX,dataY)]\n",
    "\n",
    "m = ( n*sum(dataXY) - sum(dataX)*sum(dataY)  )/( n*sum(dataX2) - pow(sum(dataX),2)  )\n",
    "b = ( sum(dataY)*sum(dataX2) - sum(dataX)*sum(dataXY) )/( n*sum(dataX2) - pow(sum(dataX),2)  )\n",
    "\n",
    "print(\"m: \",round(m,3),\"  b: \",round(b,3))"
   ]
  },
  {
   "cell_type": "code",
   "execution_count": 121,
   "metadata": {},
   "outputs": [
    {
     "name": "stdout",
     "output_type": "stream",
     "text": [
      "m:  2.964   b:  0.0\n"
     ]
    }
   ],
   "source": [
    "# fun checks using numpy\n",
    "\n",
    "M = cov/varX\n",
    "B = ybar - M*xbar \n",
    "\n",
    "print(\"m: \",round(M,3),\"  b: \",round(B,3))"
   ]
  },
  {
   "cell_type": "markdown",
   "metadata": {},
   "source": [
    "Lets draw the predicted or fitted model, for x <= 20"
   ]
  },
  {
   "cell_type": "code",
   "execution_count": 201,
   "metadata": {},
   "outputs": [
    {
     "data": {
      "image/png": "[encoded data removed]",
      "text/plain": [
       "<Figure size 432x288 with 1 Axes>"
      ]
     },
     "metadata": {},
     "output_type": "display_data"
    }
   ],
   "source": [
    "X = range(20)\n",
    "YFit = [m*x+b for x in X]\n",
    "fig = plt.figure()\n",
    "ax = plt.subplot(111)\n",
    "ax.scatter(dataX, dataY,label='data')\n",
    "ax.plot(X, YFit, color='red', label='Fit Line',linewidth=1.0)##New: fit line\n",
    "plt.title('Least Square fit to the data')\n",
    "plt.xlabel('x')\n",
    "plt.ylabel('y')\n",
    "axes = plt.gca()\n",
    "axes.set_xlim([0,18])\n",
    "axes.set_ylim([0,190])\n",
    "ax.legend(loc='upper center', bbox_to_anchor=(0.25, 0.9), shadow=False, ncol=2)\n",
    "fig.patch.set_facecolor('white')\n",
    "plt.show()"
   ]
  },
  {
   "cell_type": "markdown",
   "metadata": {},
   "source": [
    "Lets check the how well the model explains the data, i.e sum of square of residuals, MSE and R^2. R^2 gives a measure of the goodness of the fit and should be ideally close to 1."
   ]
  },
  {
   "cell_type": "code",
   "execution_count": 219,
   "metadata": {},
   "outputs": [
    {
     "name": "stdout",
     "output_type": "stream",
     "text": [
      "y_res [-0.9642857142857144, 1.0714285714285712, -0.8928571428571423, 1.1428571428571423, -0.821428571428573, 2.2142857142857153, -1.75]\n",
      "mse2 2.5642857142857154\n",
      "R^2: 0.9896\n",
      "mse: 0.013\n",
      "Y_Fit: [0.0, 2.9642857142857144, 5.928571428571429, 8.892857142857142, 11.857142857142858, 14.821428571428573, 17.785714285714285, 20.75, 23.714285714285715, 26.67857142857143]\n"
     ]
    }
   ],
   "source": [
    "# sum of square of residuals\n",
    "SS_residuals = sum( [pow(y - (m*x+b),2) for x,y in zip(dataX,dataY) ] )\n",
    "\n",
    "y_residuals = [(y - (m*x+b)) for x,y in zip(dataX,dataY)]\n",
    "\n",
    "print ('y_res', [(y - (m*x+b)) for x,y in zip(dataX,dataY)])\n",
    "\n",
    "mse2 = np.sum([yi*yi for yi in y_residuals])/(n-2)\n",
    "\n",
    "print ('mse2', mse2)\n",
    "\n",
    "# mean squared deviation in y\n",
    "msd_y = sum([pow(y-ybar,2) for y in dataY])\n",
    "\n",
    "#R^2\n",
    "R_squared = 1.0 - (SS_residuals/msd_y)\n",
    "print('R^2:', round(R_squared, 4)) \n",
    "\n",
    "# mean squared error\n",
    "mse = SS_residuals / (n-2)\n",
    "\n",
    "# mean squared deviation in x\n",
    "msd_x = sum([ pow(x-xbar,2) for x in dataX])\n",
    "\n",
    "# standard error\n",
    "Y_SE = [np.sqrt( mse * ( 1./n + pow(x-xbar,2)/msd_x ) ) for x in dataX]\n",
    "\n",
    "print ('mse:', round(mse,3))\n",
    "print('Y_Fit:', YFit[0:10])\n",
    "#print('Y_SE:', Y_SE[0:4])\n"
   ]
  },
  {
   "cell_type": "markdown",
   "metadata": {},
   "source": [
    "This is pretty mediocer, as expected from a noisy system as this one. Lets plot it for all or few points."
   ]
  },
  {
   "cell_type": "code",
   "execution_count": 125,
   "metadata": {},
   "outputs": [
    {
     "data": {
      "image/png": "[encoded data removed]",
      "text/plain": [
       "<Figure size 432x288 with 1 Axes>"
      ]
     },
     "metadata": {},
     "output_type": "display_data"
    }
   ],
   "source": [
    "def hplot(data, nbins, label=''):\n",
    "        fig = plt.figure()\n",
    "        ax = plt.subplot(111)\n",
    "        ax.hist(data,nbins,color='green',alpha=0.8)\n",
    "        plt.title('Histogram')\n",
    "        plt.xlabel(label)\n",
    "        fig.patch.set_facecolor('white') #sets the color of the border\n",
    "plt.show()\n",
    "\n",
    "residuals = [y - m*x+b for x,y in zip(dataX,dataY) if x < 100]\n",
    "hplot(residuals,20)"
   ]
  },
  {
   "cell_type": "markdown",
   "metadata": {},
   "source": [
    "Lets also project the data along the fit line by finding the perpendicular distances from the points and the fit line and then making a histogram of those."
   ]
  },
  {
   "cell_type": "code",
   "execution_count": 170,
   "metadata": {},
   "outputs": [
    {
     "data": {
      "image/png": "[encoded data removed]",
      "text/plain": [
       "<Figure size 432x288 with 1 Axes>"
      ]
     },
     "metadata": {},
     "output_type": "display_data"
    }
   ],
   "source": [
    "perp_dist = [ (y - (m*x+b))/math.sqrt(1.0+m*m) for x,y in zip(dataX,dataY) ]\n",
    "hplot(perp_dist,25)"
   ]
  },
  {
   "cell_type": "markdown",
   "metadata": {},
   "source": [
    "Using student's t-distribution single tail, for n-2 dof, lets construct the upper and lower CI (95%)"
   ]
  },
  {
   "cell_type": "code",
   "execution_count": 221,
   "metadata": {},
   "outputs": [
    {
     "name": "stdout",
     "output_type": "stream",
     "text": [
      "[-0.020214214611822053, 2.925310736131968, 5.870400396559685, 8.815377632003937, 11.76030967154873, 14.705219093949001, 17.650115594447158]\n",
      "[0.020214214611822053, 3.003260692439461, 5.986742460583173, 8.970336653710348, 11.953976042736985, 14.937638048908145, 17.92131297698141]\n",
      "[0.0, 2.9642857142857144, 5.928571428571429, 8.892857142857142, 11.857142857142858, 14.821428571428573, 17.785714285714285, 20.75, 23.714285714285715, 26.67857142857143, 29.642857142857146, 32.60714285714286, 35.57142857142857, 38.535714285714285, 41.5, 44.464285714285715, 47.42857142857143, 50.392857142857146, 53.35714285714286, 56.32142857142858]\n"
     ]
    }
   ],
   "source": [
    "ndof = n - 2\n",
    "t_crit = stats.t.ppf(1-0.05, ndof)\n",
    "\n",
    "y_ci_low = [yi-t_crit*yvar for yi, yvar in zip(YFit, Y_SE)]\n",
    "y_ci_hi = [yi+t_crit*yvar for yi, yvar in zip(YFit, Y_SE)]\n",
    "print (y_ci_low); print(y_ci_hi); print(YFit)"
   ]
  },
  {
   "cell_type": "code",
   "execution_count": 222,
   "metadata": {},
   "outputs": [
    {
     "ename": "ValueError",
     "evalue": "x and y must have same first dimension, but have shapes (20,) and (7,)",
     "output_type": "error",
     "traceback": [
      "\u001b[0;31m---------------------------------------------------------------------------\u001b[0m",
      "\u001b[0;31mValueError\u001b[0m                                Traceback (most recent call last)",
      "\u001b[0;32m<ipython-input-222-0c11f0527f36>\u001b[0m in \u001b[0;36m<module>\u001b[0;34m\u001b[0m\n\u001b[1;32m      3\u001b[0m \u001b[0max\u001b[0m\u001b[0;34m.\u001b[0m\u001b[0mscatter\u001b[0m\u001b[0;34m(\u001b[0m\u001b[0mdataX\u001b[0m\u001b[0;34m,\u001b[0m \u001b[0mdataY\u001b[0m\u001b[0;34m,\u001b[0m\u001b[0mlabel\u001b[0m\u001b[0;34m=\u001b[0m\u001b[0;34m'data'\u001b[0m\u001b[0;34m)\u001b[0m\u001b[0;34m\u001b[0m\u001b[0;34m\u001b[0m\u001b[0m\n\u001b[1;32m      4\u001b[0m \u001b[0max\u001b[0m\u001b[0;34m.\u001b[0m\u001b[0mplot\u001b[0m\u001b[0;34m(\u001b[0m\u001b[0mX\u001b[0m\u001b[0;34m,\u001b[0m \u001b[0mYFit\u001b[0m\u001b[0;34m,\u001b[0m \u001b[0mcolor\u001b[0m\u001b[0;34m=\u001b[0m\u001b[0;34m'red'\u001b[0m\u001b[0;34m,\u001b[0m \u001b[0mlabel\u001b[0m\u001b[0;34m=\u001b[0m\u001b[0;34m'Fit Line'\u001b[0m\u001b[0;34m,\u001b[0m\u001b[0mlinewidth\u001b[0m\u001b[0;34m=\u001b[0m\u001b[0;36m1.0\u001b[0m\u001b[0;34m)\u001b[0m\u001b[0;31m##New: fit line\u001b[0m\u001b[0;34m\u001b[0m\u001b[0;34m\u001b[0m\u001b[0m\n\u001b[0;32m----> 5\u001b[0;31m \u001b[0max\u001b[0m\u001b[0;34m.\u001b[0m\u001b[0mplot\u001b[0m\u001b[0;34m(\u001b[0m\u001b[0mX\u001b[0m\u001b[0;34m,\u001b[0m \u001b[0my_ci_low\u001b[0m\u001b[0;34m,\u001b[0m\u001b[0;34m'r'\u001b[0m\u001b[0;34m)\u001b[0m\u001b[0;34m\u001b[0m\u001b[0;34m\u001b[0m\u001b[0m\n\u001b[0m\u001b[1;32m      6\u001b[0m \u001b[0max\u001b[0m\u001b[0;34m.\u001b[0m\u001b[0mplot\u001b[0m\u001b[0;34m(\u001b[0m\u001b[0mX\u001b[0m\u001b[0;34m,\u001b[0m \u001b[0my_ci_hi\u001b[0m\u001b[0;34m,\u001b[0m\u001b[0;34m'r'\u001b[0m\u001b[0;34m)\u001b[0m\u001b[0;34m\u001b[0m\u001b[0;34m\u001b[0m\u001b[0m\n\u001b[1;32m      7\u001b[0m \u001b[0mplt\u001b[0m\u001b[0;34m.\u001b[0m\u001b[0mtitle\u001b[0m\u001b[0;34m(\u001b[0m\u001b[0;34m'Least Square fit to the data'\u001b[0m\u001b[0;34m)\u001b[0m\u001b[0;34m\u001b[0m\u001b[0;34m\u001b[0m\u001b[0m\n",
      "\u001b[0;32m~/miniconda2/envs/Python37/lib/python3.6/site-packages/matplotlib/axes/_axes.py\u001b[0m in \u001b[0;36mplot\u001b[0;34m(self, scalex, scaley, data, *args, **kwargs)\u001b[0m\n\u001b[1;32m   1664\u001b[0m         \"\"\"\n\u001b[1;32m   1665\u001b[0m         \u001b[0mkwargs\u001b[0m \u001b[0;34m=\u001b[0m \u001b[0mcbook\u001b[0m\u001b[0;34m.\u001b[0m\u001b[0mnormalize_kwargs\u001b[0m\u001b[0;34m(\u001b[0m\u001b[0mkwargs\u001b[0m\u001b[0;34m,\u001b[0m \u001b[0mmlines\u001b[0m\u001b[0;34m.\u001b[0m\u001b[0mLine2D\u001b[0m\u001b[0;34m.\u001b[0m\u001b[0m_alias_map\u001b[0m\u001b[0;34m)\u001b[0m\u001b[0;34m\u001b[0m\u001b[0;34m\u001b[0m\u001b[0m\n\u001b[0;32m-> 1666\u001b[0;31m         \u001b[0mlines\u001b[0m \u001b[0;34m=\u001b[0m \u001b[0;34m[\u001b[0m\u001b[0;34m*\u001b[0m\u001b[0mself\u001b[0m\u001b[0;34m.\u001b[0m\u001b[0m_get_lines\u001b[0m\u001b[0;34m(\u001b[0m\u001b[0;34m*\u001b[0m\u001b[0margs\u001b[0m\u001b[0;34m,\u001b[0m \u001b[0mdata\u001b[0m\u001b[0;34m=\u001b[0m\u001b[0mdata\u001b[0m\u001b[0;34m,\u001b[0m \u001b[0;34m**\u001b[0m\u001b[0mkwargs\u001b[0m\u001b[0;34m)\u001b[0m\u001b[0;34m]\u001b[0m\u001b[0;34m\u001b[0m\u001b[0;34m\u001b[0m\u001b[0m\n\u001b[0m\u001b[1;32m   1667\u001b[0m         \u001b[0;32mfor\u001b[0m \u001b[0mline\u001b[0m \u001b[0;32min\u001b[0m \u001b[0mlines\u001b[0m\u001b[0;34m:\u001b[0m\u001b[0;34m\u001b[0m\u001b[0;34m\u001b[0m\u001b[0m\n\u001b[1;32m   1668\u001b[0m             \u001b[0mself\u001b[0m\u001b[0;34m.\u001b[0m\u001b[0madd_line\u001b[0m\u001b[0;34m(\u001b[0m\u001b[0mline\u001b[0m\u001b[0;34m)\u001b[0m\u001b[0;34m\u001b[0m\u001b[0;34m\u001b[0m\u001b[0m\n",
      "\u001b[0;32m~/miniconda2/envs/Python37/lib/python3.6/site-packages/matplotlib/axes/_base.py\u001b[0m in \u001b[0;36m__call__\u001b[0;34m(self, *args, **kwargs)\u001b[0m\n\u001b[1;32m    223\u001b[0m                 \u001b[0mthis\u001b[0m \u001b[0;34m+=\u001b[0m \u001b[0margs\u001b[0m\u001b[0;34m[\u001b[0m\u001b[0;36m0\u001b[0m\u001b[0;34m]\u001b[0m\u001b[0;34m,\u001b[0m\u001b[0;34m\u001b[0m\u001b[0;34m\u001b[0m\u001b[0m\n\u001b[1;32m    224\u001b[0m                 \u001b[0margs\u001b[0m \u001b[0;34m=\u001b[0m \u001b[0margs\u001b[0m\u001b[0;34m[\u001b[0m\u001b[0;36m1\u001b[0m\u001b[0;34m:\u001b[0m\u001b[0;34m]\u001b[0m\u001b[0;34m\u001b[0m\u001b[0;34m\u001b[0m\u001b[0m\n\u001b[0;32m--> 225\u001b[0;31m             \u001b[0;32myield\u001b[0m \u001b[0;32mfrom\u001b[0m \u001b[0mself\u001b[0m\u001b[0;34m.\u001b[0m\u001b[0m_plot_args\u001b[0m\u001b[0;34m(\u001b[0m\u001b[0mthis\u001b[0m\u001b[0;34m,\u001b[0m \u001b[0mkwargs\u001b[0m\u001b[0;34m)\u001b[0m\u001b[0;34m\u001b[0m\u001b[0;34m\u001b[0m\u001b[0m\n\u001b[0m\u001b[1;32m    226\u001b[0m \u001b[0;34m\u001b[0m\u001b[0m\n\u001b[1;32m    227\u001b[0m     \u001b[0;32mdef\u001b[0m \u001b[0mget_next_color\u001b[0m\u001b[0;34m(\u001b[0m\u001b[0mself\u001b[0m\u001b[0;34m)\u001b[0m\u001b[0;34m:\u001b[0m\u001b[0;34m\u001b[0m\u001b[0;34m\u001b[0m\u001b[0m\n",
      "\u001b[0;32m~/miniconda2/envs/Python37/lib/python3.6/site-packages/matplotlib/axes/_base.py\u001b[0m in \u001b[0;36m_plot_args\u001b[0;34m(self, tup, kwargs)\u001b[0m\n\u001b[1;32m    389\u001b[0m             \u001b[0mx\u001b[0m\u001b[0;34m,\u001b[0m \u001b[0my\u001b[0m \u001b[0;34m=\u001b[0m \u001b[0mindex_of\u001b[0m\u001b[0;34m(\u001b[0m\u001b[0mtup\u001b[0m\u001b[0;34m[\u001b[0m\u001b[0;34m-\u001b[0m\u001b[0;36m1\u001b[0m\u001b[0;34m]\u001b[0m\u001b[0;34m)\u001b[0m\u001b[0;34m\u001b[0m\u001b[0;34m\u001b[0m\u001b[0m\n\u001b[1;32m    390\u001b[0m \u001b[0;34m\u001b[0m\u001b[0m\n\u001b[0;32m--> 391\u001b[0;31m         \u001b[0mx\u001b[0m\u001b[0;34m,\u001b[0m \u001b[0my\u001b[0m \u001b[0;34m=\u001b[0m \u001b[0mself\u001b[0m\u001b[0;34m.\u001b[0m\u001b[0m_xy_from_xy\u001b[0m\u001b[0;34m(\u001b[0m\u001b[0mx\u001b[0m\u001b[0;34m,\u001b[0m \u001b[0my\u001b[0m\u001b[0;34m)\u001b[0m\u001b[0;34m\u001b[0m\u001b[0;34m\u001b[0m\u001b[0m\n\u001b[0m\u001b[1;32m    392\u001b[0m \u001b[0;34m\u001b[0m\u001b[0m\n\u001b[1;32m    393\u001b[0m         \u001b[0;32mif\u001b[0m \u001b[0mself\u001b[0m\u001b[0;34m.\u001b[0m\u001b[0mcommand\u001b[0m \u001b[0;34m==\u001b[0m \u001b[0;34m'plot'\u001b[0m\u001b[0;34m:\u001b[0m\u001b[0;34m\u001b[0m\u001b[0;34m\u001b[0m\u001b[0m\n",
      "\u001b[0;32m~/miniconda2/envs/Python37/lib/python3.6/site-packages/matplotlib/axes/_base.py\u001b[0m in \u001b[0;36m_xy_from_xy\u001b[0;34m(self, x, y)\u001b[0m\n\u001b[1;32m    268\u001b[0m         \u001b[0;32mif\u001b[0m \u001b[0mx\u001b[0m\u001b[0;34m.\u001b[0m\u001b[0mshape\u001b[0m\u001b[0;34m[\u001b[0m\u001b[0;36m0\u001b[0m\u001b[0;34m]\u001b[0m \u001b[0;34m!=\u001b[0m \u001b[0my\u001b[0m\u001b[0;34m.\u001b[0m\u001b[0mshape\u001b[0m\u001b[0;34m[\u001b[0m\u001b[0;36m0\u001b[0m\u001b[0;34m]\u001b[0m\u001b[0;34m:\u001b[0m\u001b[0;34m\u001b[0m\u001b[0;34m\u001b[0m\u001b[0m\n\u001b[1;32m    269\u001b[0m             raise ValueError(\"x and y must have same first dimension, but \"\n\u001b[0;32m--> 270\u001b[0;31m                              \"have shapes {} and {}\".format(x.shape, y.shape))\n\u001b[0m\u001b[1;32m    271\u001b[0m         \u001b[0;32mif\u001b[0m \u001b[0mx\u001b[0m\u001b[0;34m.\u001b[0m\u001b[0mndim\u001b[0m \u001b[0;34m>\u001b[0m \u001b[0;36m2\u001b[0m \u001b[0;32mor\u001b[0m \u001b[0my\u001b[0m\u001b[0;34m.\u001b[0m\u001b[0mndim\u001b[0m \u001b[0;34m>\u001b[0m \u001b[0;36m2\u001b[0m\u001b[0;34m:\u001b[0m\u001b[0;34m\u001b[0m\u001b[0;34m\u001b[0m\u001b[0m\n\u001b[1;32m    272\u001b[0m             raise ValueError(\"x and y can be no greater than 2-D, but have \"\n",
      "\u001b[0;31mValueError\u001b[0m: x and y must have same first dimension, but have shapes (20,) and (7,)"
     ]
    },
    {
     "data": {
      "image/png": "[encoded data removed]",
      "text/plain": [
       "<Figure size 432x288 with 1 Axes>"
      ]
     },
     "metadata": {
      "needs_background": "light"
     },
     "output_type": "display_data"
    }
   ],
   "source": [
    "fig = plt.figure()\n",
    "ax = plt.subplot(111)\n",
    "ax.scatter(dataX, dataY,label='data')\n",
    "ax.plot(X, YFit, color='red', label='Fit Line',linewidth=1.0)##New: fit line\n",
    "ax.plot(X, y_ci_low,'r')\n",
    "ax.plot(X, y_ci_hi,'r')\n",
    "plt.title('Least Square fit to the data')\n",
    "plt.xlabel('x')\n",
    "plt.ylabel('y')\n",
    "axes = plt.gca()\n",
    "axes.set_xlim([0,8])\n",
    "axes.set_ylim([0,25])\n",
    "ax.legend(loc='upper center', bbox_to_anchor=(0.25, 0.9), shadow=False, ncol=2)\n",
    "fig.patch.set_facecolor('white')\n",
    "plt.show()"
   ]
  },
  {
   "cell_type": "code",
   "execution_count": null,
   "metadata": {},
   "outputs": [],
   "source": []
  }
 ],
 "metadata": {
  "kernelspec": {
   "display_name": "Python 3",
   "language": "python",
   "name": "python3"
  },
  "language_info": {
   "codemirror_mode": {
    "name": "ipython",
    "version": 3
   },
   "file_extension": ".py",
   "mimetype": "text/x-python",
   "name": "python",
   "nbconvert_exporter": "python",
   "pygments_lexer": "ipython3",
   "version": "3.6.8"
  }
 },
 "nbformat": 4,
 "nbformat_minor": 2
}
