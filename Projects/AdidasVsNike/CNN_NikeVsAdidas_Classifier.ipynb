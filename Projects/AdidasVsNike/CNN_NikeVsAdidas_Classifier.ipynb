{
 "cells": [
  {
   "cell_type": "markdown",
   "metadata": {},
   "source": [
    "# A quick Introduction to Convolutional Neural Network (CNN)\n",
    "\n",
    "Lets first go over a quick description of the CNN [here](https://www.youtube.com/watch?v=FmpDIaiMIeA).\n",
    "\n",
    "Below are the screen shot summary from the above video.\n",
    "\n",
    "#### Filtering by one input\n",
    "<table>\n",
    "<tr>\n",
    "<td> <img src=\"img/Filtering_1.png\" alt=\"Drawing\" style=\"width: 370px;\"/> </td>\n",
    "<td> <img src=\"img/Filtering_3.png\" alt=\"Drawing\" style=\"width: 370px;\"/> </td>\n",
    "</tr>\n",
    "</table>\n",
    "\n",
    "#### Filtering and stacking of three inputs\n",
    "\n",
    "<table>\n",
    "<tr>\n",
    "<td> <img src=\"img/Filtering_4.png\" alt=\"Drawing\" style=\"width: 370px;\"/> </td>\n",
    "<td> <img src=\"img/Stack_Of_Filtered_Images.png\" alt=\"Drawing\" style=\"width: 370px;\"/> </td>\n",
    "</tr>\n",
    "</table>\n",
    "\n",
    "#### Pooling\n",
    "\n",
    "<table>\n",
    "<tr>\n",
    "<td> <img src=\"img/Pooling_1.png\" alt=\"Drawing\" style=\"width: 370px;\"/> </td>\n",
    "<td> <img src=\"img/Pooling_2.png\" alt=\"Drawing\" style=\"width: 370px;\"/> </td>\n",
    "</tr>\n",
    "</table>\n",
    "\n",
    "#### Activation\n",
    "\n",
    "Lets step back before pooling.\n",
    "\n",
    "<table>\n",
    "<tr>\n",
    "<td> <img src=\"img/ReLu_1.png\" alt=\"Drawing\" style=\"width: 370px;\"/> </td>\n",
    "<td> <img src=\"img/ReLu_2.png\" alt=\"Drawing\" style=\"width: 370px;\"/> </td>\n",
    "</tr>\n",
    "</table>\n",
    "\n",
    "#### From one Conv2D layer to Deep Stacking:\n",
    "\n",
    "<table>\n",
    "<tr>\n",
    "<td> <img src=\"img/OneLayer_1.png\" alt=\"Drawing\" style=\"width: 370px;\"/> </td>\n",
    "<td> <img src=\"img/DeepStacking.png\" alt=\"Drawing\" style=\"width: 370px;\"/> </td>\n",
    "</tr>\n",
    "</table>\n",
    "\n",
    "#### Fully Connected Layer:\n",
    "\n",
    "<table>\n",
    "<tr>\n",
    "<td> <img src=\"img/FullyConnectedLayer.png\" alt=\"Drawing\" style=\"width: 370px;\"/> </td>\n",
    "<td> <img src=\"img/FullyConnectedLayer_2.png\" alt=\"Drawing\" style=\"width: 370px;\"/> </td>\n",
    "</tr>\n",
    "</table>\n",
    "\n",
    "#### Next Input and Back Propagation:\n",
    "\n",
    "<table>\n",
    "<tr>\n",
    "<td> <img src=\"img/NextInput.png\" alt=\"Drawing\" style=\"width: 370px;\"/> </td>\n",
    "<td> <img src=\"img/BackProp.png\" alt=\"Drawing\" style=\"width: 370px;\"/> </td>\n",
    "</tr>\n",
    "</table>"
   ]
  },
  {
   "cell_type": "markdown",
   "metadata": {},
   "source": [
    "# Image Classification using CNN\n",
    "\n",
    "This project is based on the following tutorials by\n",
    "1. [Venlin Valkov](https://medium.com/@curiousily/tensorflow-for-hackers-part-iii-convolutional-neural-networks-c077618e590b)\n",
    "2. [sentdex](https://pythonprogramming.net/convolutional-neural-network-kats-vs-dogs-machine-learning-tutorial/?source=post_page-----81eef880715e----------------------)\n",
    "2. [Connor Shorten](https://towardsdatascience.com/how-to-build-a-convolutional-network-classifier-81eef880715e)\n",
    "\n",
    "## Overview\n",
    "The project is a classifier that would distinguish between Nike and Adidas basketball shoes using [tflearn](http://tflearn.org) API (Application programming interface) to build image recognition model.  \n",
    "\n",
    "## Dataset\n",
    "Data contains 50 images of for each Nike and Adidas shoe designs, both for the [test](https://github.com/CShorten/NIKE_vs_ADIDAS/tree/master/TEST) and [training](https://github.com/CShorten/NIKE_vs_ADIDAS/tree/master/TRAIN) data. \n",
    "\n",
    "## Model details\n",
    "I decided to use 6-layer convolutional networks, learning rate as 0.001 which should be optimal for the ADAM (Adaptive Moment Estimation) optimizer. [ADAM](https://towardsdatascience.com/adam-latest-trends-in-deep-learning-optimization-6be9a291375c) is a combination of RMSprop and Stochastic Gradient Descent with momentum for back propagation.\n",
    "\n",
    "\n",
    "- LR: The learning rate is a hyperparameter that controls how much to change the model in response to the estimated error each time the model weights are updated. A rate value too small may result in a long training process that could get stuck, whereas a value too large may result in learning a sub-optimal set of weights too fast or an unstable training process. \n",
    "\n",
    "## Dependencies \n",
    "\n",
    "- `PIL`: For image pre-processing, mainly resizing. One can equally use opencv for the purpose, or try more advance features of tflearn library as `tflearn.data_preprocessing.ImagePreprocessing` and `tflearn.data_augmentation.ImageAugmentation`. \n",
    "\n",
    "- `numpy`: To deal with arrays\n",
    "\n",
    "- `os`: To deal with directories\n",
    "\n",
    "- `shuffle`: To mix up the images, since the currently ordered data might lead our network astray in training.\n",
    "\n",
    "- `tdqm` : A progress bar for tasks, used in any for loop\n",
    "\n",
    "- `matplotlib` : To plot the images\n"
   ]
  },
  {
   "cell_type": "code",
   "execution_count": 1,
   "metadata": {},
   "outputs": [],
   "source": [
    "from PIL import Image          \n",
    "import numpy as np             \n",
    "import os                      \n",
    "from random import shuffle     \n",
    "from tqdm import tqdm\n",
    "import matplotlib.pyplot as plt\n",
    "TRAIN_DIR = 'TRAIN'\n",
    "TEST_DIR = 'TEST'\n",
    "\n",
    "IMG_SIZE = 120\n",
    "LR = 1e-3\n",
    "\n",
    "MODEL_NAME = 'NIKEvsADIDAS--{}-{}.model'.format(LR, '6conv-basic')"
   ]
  },
  {
   "cell_type": "markdown",
   "metadata": {},
   "source": [
    "## Label the data\n",
    "\n",
    "We first label data using one hot encoding, which is to perform “binarization” of the categories. For each name of the image, we assign a vector such as Nike is [1 0] and Adidas is [0 1]. Say if we have three types of categories, Nike, Adidas, Reebok, then encoding can be Nike as [1 0 0], and Adidas as [0 1 0], and Reebok as [0 0 1]."
   ]
  },
  {
   "cell_type": "code",
   "execution_count": 2,
   "metadata": {},
   "outputs": [],
   "source": [
    "def label_img(img):\n",
    "    # Images are formatted as: ADIDAS_1, NIKE_3 ...\n",
    "    word_label = img.split('_')[0]\n",
    "    if word_label == 'NIKE': return [1,0]\n",
    "    elif word_label == 'ADIDAS': return [0,1]"
   ]
  },
  {
   "cell_type": "markdown",
   "metadata": {},
   "source": [
    "## Pre-processing the data\n",
    "We will be resizing images with size 120 x 120 for better quality, and will compensate the computational time by coverting images into gray scale. The square images will be bit distorted but the three stripes from adidas and nike swoosh will be still clearly visible that is the key feature to train our model. After resizing, we will convert the images and labels into arrays that will be passed through our network. A computer sees an image as an array of pixel values, which in our case is 120 x 120 (since, we reduce from RGB to gray scale). Each of these numbers is given a value from 0 to 255 (8-bit integer) which describes the pixel intensity at that point. We will do the same treatment to the test data, but instead of adding a label to each image, we will only add a number for each image."
   ]
  },
  {
   "cell_type": "code",
   "execution_count": 4,
   "metadata": {},
   "outputs": [
    {
     "name": "stderr",
     "output_type": "stream",
     "text": [
      "100%|██████████| 100/100 [00:00<00:00, 184.14it/s]"
     ]
    },
    {
     "name": "stdout",
     "output_type": "stream",
     "text": [
      "[array([[255, 255, 255, ..., 255, 255, 255],\n",
      "       [255, 255, 255, ..., 255, 255, 255],\n",
      "       [255, 255, 255, ..., 255, 255, 255],\n",
      "       ...,\n",
      "       [255, 255, 255, ..., 255, 255, 255],\n",
      "       [255, 255, 255, ..., 255, 255, 255],\n",
      "       [255, 255, 255, ..., 255, 255, 255]], dtype=uint8), array([1, 0])]\n"
     ]
    },
    {
     "name": "stderr",
     "output_type": "stream",
     "text": [
      "\n"
     ]
    }
   ],
   "source": [
    "def create_train_data():\n",
    "    '''\n",
    "    Creates a numpy array of images and its labels (one hot encoding)\n",
    "    Returns:\n",
    "        Returns a numpy array of images that are matrices (IMG_SIZE x IMG_SIZE) and the labels that are vector (1x2).\n",
    "    '''\n",
    "    train_data = []\n",
    "    for img in tqdm(os.listdir(TRAIN_DIR)):\n",
    "        label = label_img(img)        \n",
    "        path = os.path.join(TRAIN_DIR, img)        \n",
    "        \n",
    "        img = Image.open(path) \n",
    "        img = img.convert('L') \n",
    "        img = img.resize((IMG_SIZE, IMG_SIZE), Image.ANTIALIAS)\n",
    "        \n",
    "        train_data.append([np.array(img), np.array(label)])\n",
    "    shuffle(train_data)\n",
    "    print(train_data[0])\n",
    "    np.save('train_data.npy', train_data) \n",
    "    return train_data\n",
    "train_data = create_train_data()"
   ]
  },
  {
   "cell_type": "markdown",
   "metadata": {},
   "source": [
    "## Data Inspection \n",
    "We can either open the saved `numpy` array or look at the return array of the method `create_train_data()`. This is more to understand the data structure that will be passed to the layers."
   ]
  },
  {
   "cell_type": "code",
   "execution_count": 42,
   "metadata": {},
   "outputs": [
    {
     "name": "stdout",
     "output_type": "stream",
     "text": [
      "dimensions of trained data: (100, 2)\n"
     ]
    }
   ],
   "source": [
    "train_data_inspect = np.load('train_data.npy',allow_pickle=True)\n",
    "print('dimensions of trained data:', train_data_inspect.shape)  \n",
    "#for i, row in enumerate(train_data_inspect): print(row[0].shape,'-->', row[1])"
   ]
  },
  {
   "cell_type": "markdown",
   "metadata": {},
   "source": [
    "The dimensions of the trained data tells us a tensor of rank 2, with shape = (100, 2). For each of the 100 images, the first row is a 120 x 120 matrix (with values from 0 to 255) and second row is a vector of size 2 (with values 0 or 1). \n",
    "\n",
    "Lets check if image corresponds to the right label. I first print the indicies of the arrays that corresponds to adidas and nike images, and then plot the image to varify it against that list."
   ]
  },
  {
   "cell_type": "code",
   "execution_count": 18,
   "metadata": {},
   "outputs": [
    {
     "name": "stdout",
     "output_type": "stream",
     "text": [
      "\n",
      " nike indices:    [0, 4, 5, 6, 9, 12, 16, 17, 24, 25, 28, 30, 33, 37, 38, 40, 41, 42, 43, 45, 47, 50, 51, 52, 53, 55, 56, 57, 61, 64, 66, 69, 70, 71, 73, 74, 75, 76, 80, 81, 82, 84, 86, 89, 91, 92, 95, 96, 97, 99] \n",
      "\n",
      " adidas indices: [1, 2, 3, 7, 8, 10, 11, 13, 14, 15, 18, 19, 20, 21, 22, 23, 26, 27, 29, 31, 32, 34, 35, 36, 39, 44, 46, 48, 49, 54, 58, 59, 60, 62, 63, 65, 67, 68, 72, 77, 78, 79, 83, 85, 87, 88, 90, 93, 94, 98]\n",
      "\n",
      " label: [1 0]\n"
     ]
    },
    {
     "data": {
      "image/png": "[encoded data removed]",
      "text/plain": [
       "<Figure size 432x288 with 1 Axes>"
      ]
     },
     "metadata": {
      "needs_background": "light"
     },
     "output_type": "display_data"
    }
   ],
   "source": [
    "nike = [i for (i, row) in  enumerate(train_data_inspect) if (row[1][0] == 1 and row[1][1] == 0)] \n",
    "adidas = [i for (i, row) in  enumerate(train_data_inspect) if (row[1][0] == 0 and row[1][1] == 1)] \n",
    "print('\\n nike indices:   ', nike, '\\n\\n adidas indices:', adidas)\n",
    "# Lets visualize the 100th image\n",
    "plt.imshow(train_data[99][0], cmap = 'gist_gray')\n",
    "print('\\n label:', train_data[99][1])"
   ]
  },
  {
   "cell_type": "markdown",
   "metadata": {},
   "source": [
    "## Data Splitting and Reformatting\n",
    "\n",
    "I will be using 90% of the data for training and rest for testing, since I do not have enough data. Lets also format the data such as matrices for training with shape (120, 120) are reshaped as (-1, 120, 120, 1), since during image processing, many tensors of rank 4 are used, with dimensions corresponding to example-in-batch, image width, image height, and color channel. Similarly, the target data Y is formatted in single array of an array of size 2."
   ]
  },
  {
   "cell_type": "code",
   "execution_count": 20,
   "metadata": {},
   "outputs": [],
   "source": [
    "train = train_data[-90:] #Train Set\n",
    "test = train_data[:-90]  #Validation Set\n",
    "\n",
    "X = np.array([i[0] for i in train]).reshape(-1, IMG_SIZE, IMG_SIZE, 1)\n",
    "Y = [i[1] for i in train]\n",
    "\n",
    "test_x = np.array([i[0] for i in test]).reshape(-1, IMG_SIZE, IMG_SIZE, 1)\n",
    "test_y = [i[1] for i in test]"
   ]
  },
  {
   "cell_type": "markdown",
   "metadata": {},
   "source": [
    "## TFLearn\n",
    "See the [documentaion](http://tflearn.org/layers/conv/) on convolutional layers for reference.\n",
    "\n",
    "Consider a 2D convolutional layer in Tensor Flow.\n",
    "\n",
    "```\n",
    "with tf.name_scope('conv1')\n",
    "   #intitalize weights of 120x120 matrix by 1, with 32 filters of float type, and we name it 'Weights'\n",
    "   W = tf.Variable(tf.random_normal([120,120,1,32]), dtype=tf.float32, name='Weights') \n",
    "   #create 32 values of bias, that are random normals\n",
    "   b = tf.Varaible(tf.andom_normal([32]), dtype=tf.float32, name='biases')\n",
    "   # create a 2D convolution, with x input, W weights, stride = 1, pading=SAME\n",
    "   x = tf. nn.conv2d(x, W, strides=[1,1,1,1], padding = 'SAME')\n",
    "   x = tf.add_bias(x, b)\n",
    "   x = tf.nn.relu(x)\n",
    "```\n",
    "In TFLear, it only takes a line.\n",
    "\n",
    "```\n",
    "tflearn.conv_2d(x, 32, 5, activation='relu', name='conv1')\n",
    "```\n",
    "\n",
    "### Convolution 2D\n",
    "\n",
    "`\n",
    "tflearn.layers.conv.conv_2d (incoming, nb_filter, filter_size, strides=1, padding='same', activation='linear', bias=True, weights_init='uniform_scaling', bias_init='zeros', regularizer=None, weight_decay=0.001, trainable=True, restore=True, reuse=False, scope=None, name='Conv2D')\n",
    "`\n",
    "\n",
    "Input is `4-D Tensor [batch, height, width, in_channels].`\n",
    "\n",
    "Output is `4-D Tensor [batch, new height, new width, nb_filter].`\n",
    "\n",
    "`incoming`: $Tensor$. Incoming 4-D Tensor.\n",
    "\n",
    "`nb_filter`: $int$. The number of convolutional filters.\n",
    "\n",
    "`filter_size`: $int$ or $list$ of $int$. Size of filters.\n",
    "\n",
    "### Max Pooling 2D\n",
    "```\n",
    "tflearn.layers.conv.max_pool_2d (incoming, kernel_size, strides=None, padding='same', name='MaxPool2D')\n",
    "```"
   ]
  },
  {
   "cell_type": "markdown",
   "metadata": {},
   "source": [
    "## Model building\n",
    "\n",
    "ConvNets matches feature of the images. To build our model, we choose 4 hidden layers. The first layer is always a convolutional layer, which we choose to have 32 filters (`nb_filter`), of size 5x5 (`filter_size`) with `relu` activation, and finally followed by max pool layer with `kernel_size`=5. What does it mean?\n",
    "\n",
    "### first layer \n",
    "The first layer can be think as convolutions of 32 sliding lense that are “activated” when are placed above a corner of an input image (120 x 120) with the feature that is familiar to them. During sliding, or convolving, around the input image, a 5x5 filter is multiplying its values with the original pixel values of the image (aka computing element wise multiplications). These multiplications are all summed up in a single number (mathematically speaking, this would be 5x5x120x120 multiplications in total). The next filter then slides in the same way and a 120 x 120 x 32 feature map is created.  \n",
    "\n",
    "### max pooling\n",
    "After that, a convolution layer which is a stack of all filtered images is pooled or shrinked. For a kernel or window of 5 x 5 swaps on each filtered image, picking the maximum value and storing it into a pixel of a new filtered image. This procedure is called maximum pooling. This way a stack of images becomes a stack of smaller images (24 x 24 x 32). Next ReLu activation is used, that convert every negative number to 0 to keep the math simple. \n",
    "\n",
    "### deep layers and output layer\n",
    "This output of new stack of images or layer now becomes the input to the next layer. Each time, the image gets more filtered as it goes through a convolution layer, and smaller as it goes through the pooling layers. The final layer is called the fully connected layer (1 x 1 x 64), such as every value gets a vote. The dropout layer has 1024 cells. The value of each cell connects to our answers that we will be voting for. The value determines how strongly a value predicts the image as if its Nike or Adidas.\n",
    "\n",
    "The error on the final answer is backpropagated that teaches the network as how much it should adjust. This can be thought of an adjusted error descenting up or down from a weight in a valley. We want to go down that gradient where there is very least error."
   ]
  },
  {
   "cell_type": "code",
   "execution_count": 47,
   "metadata": {},
   "outputs": [],
   "source": [
    "import tflearn.datasets.mnist as mnist\n",
    "import tflearn\n",
    "from tflearn.layers.conv import conv_2d, max_pool_2d\n",
    "from tflearn.layers.core import input_data, dropout, fully_connected\n",
    "from tflearn.layers.estimator import regression\n",
    "\n",
    "import tensorflow as tf\n",
    "tf.reset_default_graph()\n",
    "\n",
    "# Input is a 120x120 image \n",
    "convnet = input_data(shape=[None, IMG_SIZE, IMG_SIZE, 1], name = 'input')\n",
    "\n",
    "# first layer\n",
    "convnet = conv_2d(convnet, 32, 5, activation = 'relu')\n",
    "convnet = max_pool_2d(convnet, 5)\n",
    "\n",
    "# second layer (hidden)\n",
    "convnet = conv_2d(convnet, 64, 5, activation = 'relu')\n",
    "convnet = max_pool_2d(convnet, 5)\n",
    "\n",
    "# third layer (hidden)\n",
    "convnet = conv_2d(convnet, 32, 5, activation = 'relu')\n",
    "convnet = max_pool_2d(convnet, 5)\n",
    "\n",
    "# fourth layer (hidden)\n",
    "convnet = conv_2d(convnet, 64, 5, activation = 'relu')\n",
    "convnet = max_pool_2d(convnet, 5)\n",
    "\n",
    "# fifth layer (hidden)\n",
    "convnet = conv_2d(convnet, 32, 5, activation = 'relu')\n",
    "convnet = max_pool_2d(convnet, 5)\n",
    "\n",
    "# sixth layer\n",
    "convnet = conv_2d(convnet, 64, 5, activation = 'relu')\n",
    "convnet = max_pool_2d(convnet, 5)\n",
    "\n",
    "# fully connected layer\n",
    "convnet = fully_connected(convnet, 1024, activation = 'relu')\n",
    "convnet = dropout(convnet, 0.8) \n",
    "\n",
    "#output layer\n",
    "convnet = fully_connected(convnet, 2, activation = 'softmax')\n",
    "\n",
    "convnet = regression(convnet, optimizer = 'adam', learning_rate = LR, loss = 'categorical_crossentropy', name = 'targets')\n",
    "\n",
    "# Wrap the network in a model object\n",
    "model = tflearn.DNN(convnet, tensorboard_verbose=3, tensorboard_dir='log')\n",
    "#model.save('mnist.tflearn')\n",
    "#model.load('mnist.tflearn')"
   ]
  },
  {
   "cell_type": "code",
   "execution_count": null,
   "metadata": {},
   "outputs": [],
   "source": []
  },
  {
   "cell_type": "markdown",
   "metadata": {},
   "source": [
    "## Fit Model\n",
    "\n",
    "We choose 100 epoches (`n_epochs=100`), where one epoch is define when an entire dataset is passed both forward and backward through the neural network only once. We choose to snapshot the network at every 50th step (`snapshot_step=50`) to calculate validation loss/accuracy and to save model to a `checkpoint_path`. We use the default batch size (`batch_size=128`).  "
   ]
  },
  {
   "cell_type": "code",
   "execution_count": 48,
   "metadata": {},
   "outputs": [
    {
     "name": "stdout",
     "output_type": "stream",
     "text": [
      "Training Step: 199  | total loss: \u001b[1m\u001b[32m0.51706\u001b[0m\u001b[0m | time: 7.495s\n",
      "| Adam | epoch: 100 | loss: 0.51706 - acc: 0.8709 -- iter: 64/90\n",
      "Training Step: 200  | total loss: \u001b[1m\u001b[32m0.47274\u001b[0m\u001b[0m | time: 11.268s\n",
      "| Adam | epoch: 100 | loss: 0.47274 - acc: 0.8838 | val_loss: 0.21222 - val_acc: 0.8000 -- iter: 90/90\n",
      "--\n"
     ]
    }
   ],
   "source": [
    "model.fit({'input': X}, {'targets': Y}, n_epoch=100, validation_set=({'input': test_x}, {'targets': test_y}), snapshot_step=50, show_metric=True, run_id='NIKE_ADIDAS')"
   ]
  },
  {
   "cell_type": "markdown",
   "metadata": {},
   "source": [
    "## Test the trained model on unlabelled data\n",
    "\n",
    "According to this evaluation we have about 87% accuracy. Next, we would like to test the model prediction (probabilities) on the unlabelled test data."
   ]
  },
  {
   "cell_type": "code",
   "execution_count": 49,
   "metadata": {},
   "outputs": [],
   "source": [
    "def process_test_data():\n",
    "    '''\n",
    "    Creates a numpy array of images and its index\n",
    "    Returns:\n",
    "        Returns a numpy array of images that are matrices (IMG_SIZE x IMG_SIZE) and the index.\n",
    "    '''\n",
    "    test_data = []\n",
    "    for img in tqdm(os.listdir(TEST_DIR)):\n",
    "        path = os.path.join(TEST_DIR, img)\n",
    "        if \"DS_Store\" not in path:\n",
    "            img_num = img.split('_')[1] #images are formatted 'NIKE_2', 'ADIDAS_56'..\n",
    "\n",
    "            img = Image.open(path)\n",
    "            img = img.convert('L')\n",
    "            img = img.resize((IMG_SIZE, IMG_SIZE), Image.ANTIALIAS)\n",
    "        \n",
    "            test_data.append([np.array(img), img_num])\n",
    "    shuffle(test_data)\n",
    "    np.save('test_data.npy', test_data)\n",
    "    return test_data"
   ]
  },
  {
   "cell_type": "code",
   "execution_count": 46,
   "metadata": {},
   "outputs": [
    {
     "name": "stderr",
     "output_type": "stream",
     "text": [
      "100%|██████████| 40/40 [00:00<00:00, 268.49it/s]\n"
     ]
    },
    {
     "name": "stdout",
     "output_type": "stream",
     "text": [
      "prob: [0.8836864  0.11631361]\n",
      "prob: [0.1861674 0.8138326]\n",
      "prob: [0.83733886 0.16266112]\n",
      "prob: [0.18260151 0.8173984 ]\n",
      "prob: [0.5436196 0.4563804]\n",
      "prob: [0.8030942  0.19690578]\n",
      "prob: [0.8779386  0.12206137]\n",
      "prob: [0.92853117 0.07146876]\n",
      "prob: [0.8125591  0.18744083]\n",
      "prob: [0.39409044 0.6059095 ]\n",
      "prob: [0.3249508 0.6750492]\n",
      "prob: [0.17200018 0.82799983]\n"
     ]
    },
    {
     "data": {
      "image/png": "[encoded data removed]",
      "text/plain": [
       "<Figure size 432x288 with 12 Axes>"
      ]
     },
     "metadata": {
      "needs_background": "light"
     },
     "output_type": "display_data"
    }
   ],
   "source": [
    "test_data = process_test_data()\n",
    "fig = plt.figure()\n",
    "\n",
    "for num, data in enumerate(test_data[:12]):\n",
    "    img_num = data[1]\n",
    "    img_data = data[0]\n",
    "    \n",
    "    canvas = fig.add_subplot(3,4,num+1)\n",
    "    orig = img_data\n",
    "    data = img_data.reshape(IMG_SIZE, IMG_SIZE, 1) #(120, 120, 1)\n",
    "    model_out = model.predict([data])[0]\n",
    "    label_out = model.predict_label([data])[0]\n",
    "    print('prob:', model_out)\n",
    "    if np.argmax(model_out) == 1:\n",
    "        str_label = 'ADIDAS'\n",
    "    else:\n",
    "        str_label = 'NIKE'\n",
    "    \n",
    "    canvas.imshow(orig, cmap = 'gray')\n",
    "    plt.title(str_label)\n",
    "    canvas.axes.get_xaxis().set_visible(False)\n",
    "    canvas.axes.get_yaxis().set_visible(False)\n",
    "plt.show()"
   ]
  },
  {
   "cell_type": "markdown",
   "metadata": {},
   "source": [
    "# Visualizing the metrics\n",
    "\n",
    "<table>\n",
    "<tr>\n",
    "<td> <img src=\"img/output.png\" alt=\"Drawing\" style=\"width: 1000px;\"/> </td>\n",
    "</tr>\n",
    "</table>\n",
    "\n",
    "We can now look at the tensorboard to visualize the updating of parameters. I have been saving the computation graphs in a log directory `log/NIKE_ADIDAS`. To open the tensor board in browser, type the following in the terminal.\n",
    "\n",
    "```tensorboard --logdir=log/NIKE_ADIDAS/ --host localhost --port 6006```\n",
    "\n",
    "Your terminal will show the output as\n",
    "\n",
    "```TensorBoard 1.10.0 at http://localhost:6006 (Press CTRL+C to quit)```\n",
    "\n",
    "If you have several of the metagraph stored, the latest timestamp one will be picked. Next, type the http address to your browser, and run the following command in your terminal.\n",
    "\n",
    "```tensorboard --logdir .```\n",
    " \n",
    "Refresh the browser and you will see a graph. For my specific test, my browser node is <http://localhost:6006/#graphs&run=.>\n"
   ]
  },
  {
   "cell_type": "markdown",
   "metadata": {},
   "source": [
    "# Questions:\n",
    "1. For a set of 1000 input images, what do you think how many hidden layers one would need? More than 5 or less than 5?\n",
    "2. Try to run the network with different image size, say 32x32. What do you expect?\n",
    "3. Try to run the network with only two hidden layers, and compare your results?"
   ]
  }
 ],
 "metadata": {
  "kernelspec": {
   "display_name": "Python 3",
   "language": "python",
   "name": "python3"
  },
  "language_info": {
   "codemirror_mode": {
    "name": "ipython",
    "version": 3
   },
   "file_extension": ".py",
   "mimetype": "text/x-python",
   "name": "python",
   "nbconvert_exporter": "python",
   "pygments_lexer": "ipython3",
   "version": "3.6.8"
  }
 },
 "nbformat": 4,
 "nbformat_minor": 2
}
