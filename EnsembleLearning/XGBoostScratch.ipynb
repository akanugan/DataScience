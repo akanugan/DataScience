{
 "cells": [
  {
   "cell_type": "markdown",
   "metadata": {},
   "source": [
    "# XGBoost (from scratch)"
   ]
  },
  {
   "cell_type": "markdown",
   "metadata": {},
   "source": [
    "## Bagging Vs Boosting Ensamble Techinques\n",
    "\n",
    "- __Bagging__: Build many independent predictors/models/learners often refered as week learners and combine them using some model averaging techniques. (e.g. weighted average, majority vote or normal average). The technique takes many uncorrelated week learners to make a final model, it reduces error by reducing variance. A good example is __Random Forest__\n",
    "- __Boosting__: In this techinique predictors are not made independently, but sequentially. It employs the logic in which the subsequent predictors learn from the mistakes of the previous predictors. A good example is __Gradient Boosting__\n",
    "\n",
    "![BaggingVsBoosting.png](attachment:BaggingVsBoosting)\n",
    "\n",
    "### Gradient Boosting: \n",
    "It is a machine learning technique for regression and classification problems, which produces a prediction model in the form of an ensemble of weak prediction models, typically decision trees. (Wikipedia definition). The objective of any supervised learning algorithm is to define a loss function and minimize it. In this case it can be Mean Absolute Error (MAE) that is minimized at median or mean squared error (MSE) minimized on mean. The loss for MSE is defined as\n",
    "\n",
    "$J(y_i, y^p_i) = Loss = MSE = \\frac{1}{2m}\\sum_{i=1}^m(y_i - y^p_i)^2$\n",
    "\n",
    "where, $y_i$ is the ith target value and $y^p_i$ it the ith rediction. \n",
    "\n",
    "By using gradient descent and updating our predictions based on a learning rate, we can find the values where $MSE$ is minimum.\n",
    "\n",
    "\n",
    "$y^p_i = y^p_i - 2m ~\\alpha  \\frac{\\partial}{\\partial y^p_i} J(y_i, y^p_i) $\n",
    "\n",
    "$y^p_i = y^p_i +  \\alpha \\sum_{i=1}^m(y_i - y^p_i)  $\n",
    "\n",
    "\n",
    "Here $\\alpha$ is the learning rate and $\\sum_p (y_i - y^p_i)$ is sum of the residuals.\n",
    "\n",
    "\n",
    "#### The following code is a simple XGBoost model developed using numpy.\n",
    "Tha main purpose of this code is to unveil the maths behind XGBoost"
   ]
  },
  {
   "cell_type": "code",
   "execution_count": 2,
   "metadata": {},
   "outputs": [],
   "source": [
    "import numpy as np\n",
    "import pandas as pd\n",
    "#print(pd.__version__)\n",
    "import matplotlib.pyplot as plt\n",
    "%matplotlib inline"
   ]
  },
  {
   "cell_type": "markdown",
   "metadata": {},
   "source": [
    "### Data 1\n",
    "Consider the following data where the years of experience is predictor variable and salary is the target."
   ]
  },
  {
   "cell_type": "code",
   "execution_count": 78,
   "metadata": {},
   "outputs": [
    {
     "data": {
      "text/html": [
       "<div>\n",
       "<style scoped>\n",
       "    .dataframe tbody tr th:only-of-type {\n",
       "        vertical-align: middle;\n",
       "    }\n",
       "\n",
       "    .dataframe tbody tr th {\n",
       "        vertical-align: top;\n",
       "    }\n",
       "\n",
       "    .dataframe thead th {\n",
       "        text-align: right;\n",
       "    }\n",
       "</style>\n",
       "<table border=\"1\" class=\"dataframe\">\n",
       "  <thead>\n",
       "    <tr style=\"text-align: right;\">\n",
       "      <th></th>\n",
       "      <th>Years</th>\n",
       "      <th>Salary</th>\n",
       "    </tr>\n",
       "  </thead>\n",
       "  <tbody>\n",
       "    <tr>\n",
       "      <th>0</th>\n",
       "      <td>5</td>\n",
       "      <td>82</td>\n",
       "    </tr>\n",
       "    <tr>\n",
       "      <th>1</th>\n",
       "      <td>7</td>\n",
       "      <td>80</td>\n",
       "    </tr>\n",
       "    <tr>\n",
       "      <th>2</th>\n",
       "      <td>12</td>\n",
       "      <td>103</td>\n",
       "    </tr>\n",
       "    <tr>\n",
       "      <th>3</th>\n",
       "      <td>23</td>\n",
       "      <td>118</td>\n",
       "    </tr>\n",
       "    <tr>\n",
       "      <th>4</th>\n",
       "      <td>25</td>\n",
       "      <td>172</td>\n",
       "    </tr>\n",
       "  </tbody>\n",
       "</table>\n",
       "</div>"
      ],
      "text/plain": [
       "   Years  Salary\n",
       "0      5      82\n",
       "1      7      80\n",
       "2     12     103\n",
       "3     23     118\n",
       "4     25     172"
      ]
     },
     "metadata": {},
     "output_type": "display_data"
    },
    {
     "data": {
      "text/plain": [
       "<matplotlib.collections.PathCollection at 0x11d4d32e8>"
      ]
     },
     "execution_count": 78,
     "metadata": {},
     "output_type": "execute_result"
    },
    {
     "data": {
      "image/png": "[encoded data removed]",
      "text/plain": [
       "<Figure size 432x288 with 1 Axes>"
      ]
     },
     "metadata": {
      "needs_background": "light"
     },
     "output_type": "display_data"
    }
   ],
   "source": [
    "year = [5,7,12,23,25,28,29,34,35,40]\n",
    "salary = [82,80,103,118,172,127,204,189,99,166]\n",
    "\n",
    "x = np.arange(0,50)\n",
    "x = pd.DataFrame({'x':x})\n",
    "\n",
    "df = pd.DataFrame(columns=['Years','Salary'])\n",
    "df.Years = year\n",
    "df.Salary = salary\n",
    "display(df.head())\n",
    "\n",
    "plt.scatter(x=df.Years,y=df.Salary)"
   ]
  },
  {
   "cell_type": "markdown",
   "metadata": {},
   "source": [
    "### Data 2\n",
    "\n",
    "Lets draw purely uniform distributions for certain x-ranges."
   ]
  },
  {
   "cell_type": "code",
   "execution_count": 15,
   "metadata": {},
   "outputs": [
    {
     "data": {
      "text/html": [
       "<div>\n",
       "<style scoped>\n",
       "    .dataframe tbody tr th:only-of-type {\n",
       "        vertical-align: middle;\n",
       "    }\n",
       "\n",
       "    .dataframe tbody tr th {\n",
       "        vertical-align: top;\n",
       "    }\n",
       "\n",
       "    .dataframe thead th {\n",
       "        text-align: right;\n",
       "    }\n",
       "</style>\n",
       "<table border=\"1\" class=\"dataframe\">\n",
       "  <thead>\n",
       "    <tr style=\"text-align: right;\">\n",
       "      <th></th>\n",
       "      <th>Years</th>\n",
       "      <th>Salary</th>\n",
       "    </tr>\n",
       "  </thead>\n",
       "  <tbody>\n",
       "    <tr>\n",
       "      <th>0</th>\n",
       "      <td>0</td>\n",
       "      <td>14.654698</td>\n",
       "    </tr>\n",
       "    <tr>\n",
       "      <th>1</th>\n",
       "      <td>1</td>\n",
       "      <td>13.727194</td>\n",
       "    </tr>\n",
       "    <tr>\n",
       "      <th>2</th>\n",
       "      <td>2</td>\n",
       "      <td>10.025226</td>\n",
       "    </tr>\n",
       "    <tr>\n",
       "      <th>3</th>\n",
       "      <td>3</td>\n",
       "      <td>12.445035</td>\n",
       "    </tr>\n",
       "    <tr>\n",
       "      <th>4</th>\n",
       "      <td>4</td>\n",
       "      <td>11.029748</td>\n",
       "    </tr>\n",
       "  </tbody>\n",
       "</table>\n",
       "</div>"
      ],
      "text/plain": [
       "   Years     Salary\n",
       "0      0  14.654698\n",
       "1      1  13.727194\n",
       "2      2  10.025226\n",
       "3      3  12.445035\n",
       "4      4  11.029748"
      ]
     },
     "metadata": {},
     "output_type": "display_data"
    },
    {
     "data": {
      "text/plain": [
       "<matplotlib.collections.PathCollection at 0x11d4d2390>"
      ]
     },
     "execution_count": 15,
     "metadata": {},
     "output_type": "execute_result"
    },
    {
     "data": {
      "image/png": "[encoded data removed]",
      "text/plain": [
       "<Figure size 432x288 with 1 Axes>"
      ]
     },
     "metadata": {
      "needs_background": "light"
     },
     "output_type": "display_data"
    }
   ],
   "source": [
    "x = np.arange(0,50)\n",
    "\n",
    "# just random uniform distributions in differnt range\n",
    "y1 = np.random.uniform(10,15,10)\n",
    "y2 = np.random.uniform(20,25,10)\n",
    "y3 = np.random.uniform(0,5,10)\n",
    "y4 = np.random.uniform(30,32,10)\n",
    "y5 = np.random.uniform(13,17,10)\n",
    "y = np.concatenate((y1,y2,y3,y4,y5))\n",
    "\n",
    "#f = lambda x: np.sin(x[:,0]*3*np.pi) + 0.15 * np.random.randn(x.size)\n",
    "#np.random.seed(2)\n",
    "#x = np.random.rand(100, 1) - 0.5 # 100 training data points centered around 0.5\n",
    "#y = f(x) # 3 pi sinx + 0.15 (noise=“standard normal” distribution)\n",
    "\n",
    "#y = y[:,None]\n",
    "#df = pd.Series(y)\n",
    "\n",
    "df = pd.DataFrame(columns=['Years','Salary'])\n",
    "df.Years = x#x[:,0]\n",
    "df.Salary = y\n",
    "display(df.head())\n",
    "\n",
    "plt.scatter(x=df.Years,y=df.Salary)\n",
    "#plt.scatter(x, y=df)"
   ]
  },
  {
   "cell_type": "markdown",
   "metadata": {},
   "source": [
    "### Model\n",
    "- Using regression trees as base learners, we can create a model to predict the salary. \n",
    "- Lets choose MSE as our loss function and our objective would be to minimize the squared error.\n",
    "- As the first step, the model should be initialized with a function F0(x), a function which minimizes the loss function or MSE.\n",
    "\n",
    "- __Steps:__\n",
    "    - Initialize the model with a function f0(x) = mean of target varaible, which is the solution of the function F0(x) which minimizes the MSE (loss)\n",
    "    - Compute the residual between y0 and f0 i.e. (y0-f0)\n",
    "    - Build a binary tree by randomly splitting the residual into two arrays of different sizes, compute the mean of each leaf and save it in a regression tree h1(x). \n",
    "    - In the second iteration, start building the additive model such as f1(x) = f0(x) + h1(x). The output of h1(x) will help in predicting the successive function F1(x) which will bring down the residuals. \n",
    "    - Then the third iteration the additive model will be f2(x) = f0(x) + h1(x) + h2(x), and so on, such that residual is reduced in every step.\n",
    "    "
   ]
  },
  {
   "cell_type": "code",
   "execution_count": 16,
   "metadata": {},
   "outputs": [
    {
     "data": {
      "text/html": [
       "<div>\n",
       "<style scoped>\n",
       "    .dataframe tbody tr th:only-of-type {\n",
       "        vertical-align: middle;\n",
       "    }\n",
       "\n",
       "    .dataframe tbody tr th {\n",
       "        vertical-align: top;\n",
       "    }\n",
       "\n",
       "    .dataframe thead th {\n",
       "        text-align: right;\n",
       "    }\n",
       "</style>\n",
       "<table border=\"1\" class=\"dataframe\">\n",
       "  <thead>\n",
       "    <tr style=\"text-align: right;\">\n",
       "      <th></th>\n",
       "      <th>Years</th>\n",
       "      <th>Salary</th>\n",
       "      <th>f0</th>\n",
       "      <th>y-f0</th>\n",
       "      <th>h1</th>\n",
       "      <th>f1</th>\n",
       "      <th>y-f1</th>\n",
       "      <th>h2</th>\n",
       "      <th>f2</th>\n",
       "      <th>y-f2</th>\n",
       "      <th>...</th>\n",
       "      <th>h97</th>\n",
       "      <th>f97</th>\n",
       "      <th>y-f97</th>\n",
       "      <th>h98</th>\n",
       "      <th>f98</th>\n",
       "      <th>y-f98</th>\n",
       "      <th>h99</th>\n",
       "      <th>f99</th>\n",
       "      <th>y-f99</th>\n",
       "      <th>h100</th>\n",
       "    </tr>\n",
       "  </thead>\n",
       "  <tbody>\n",
       "    <tr>\n",
       "      <th>0</th>\n",
       "      <td>0</td>\n",
       "      <td>14.654698</td>\n",
       "      <td>16.422758</td>\n",
       "      <td>-1.768060</td>\n",
       "      <td>-4.556</td>\n",
       "      <td>11.866758</td>\n",
       "      <td>2.787940</td>\n",
       "      <td>1.309</td>\n",
       "      <td>13.175758</td>\n",
       "      <td>1.478940</td>\n",
       "      <td>...</td>\n",
       "      <td>-0.728</td>\n",
       "      <td>14.188758</td>\n",
       "      <td>0.465940</td>\n",
       "      <td>0.514</td>\n",
       "      <td>14.702758</td>\n",
       "      <td>-0.048060</td>\n",
       "      <td>0.177</td>\n",
       "      <td>14.879758</td>\n",
       "      <td>-0.225060</td>\n",
       "      <td>-0.354</td>\n",
       "    </tr>\n",
       "    <tr>\n",
       "      <th>1</th>\n",
       "      <td>1</td>\n",
       "      <td>13.727194</td>\n",
       "      <td>16.422758</td>\n",
       "      <td>-2.695564</td>\n",
       "      <td>-4.556</td>\n",
       "      <td>11.866758</td>\n",
       "      <td>1.860436</td>\n",
       "      <td>1.309</td>\n",
       "      <td>13.175758</td>\n",
       "      <td>0.551436</td>\n",
       "      <td>...</td>\n",
       "      <td>-0.728</td>\n",
       "      <td>12.638758</td>\n",
       "      <td>1.088436</td>\n",
       "      <td>0.514</td>\n",
       "      <td>13.152758</td>\n",
       "      <td>0.574436</td>\n",
       "      <td>0.177</td>\n",
       "      <td>13.329758</td>\n",
       "      <td>0.397436</td>\n",
       "      <td>-0.354</td>\n",
       "    </tr>\n",
       "    <tr>\n",
       "      <th>2</th>\n",
       "      <td>2</td>\n",
       "      <td>10.025226</td>\n",
       "      <td>16.422758</td>\n",
       "      <td>-6.397532</td>\n",
       "      <td>-4.556</td>\n",
       "      <td>11.866758</td>\n",
       "      <td>-1.841532</td>\n",
       "      <td>1.309</td>\n",
       "      <td>13.175758</td>\n",
       "      <td>-3.150532</td>\n",
       "      <td>...</td>\n",
       "      <td>-0.728</td>\n",
       "      <td>9.102758</td>\n",
       "      <td>0.922468</td>\n",
       "      <td>0.514</td>\n",
       "      <td>9.616758</td>\n",
       "      <td>0.408468</td>\n",
       "      <td>0.177</td>\n",
       "      <td>9.793758</td>\n",
       "      <td>0.231468</td>\n",
       "      <td>-0.354</td>\n",
       "    </tr>\n",
       "    <tr>\n",
       "      <th>3</th>\n",
       "      <td>3</td>\n",
       "      <td>12.445035</td>\n",
       "      <td>16.422758</td>\n",
       "      <td>-3.977723</td>\n",
       "      <td>-4.556</td>\n",
       "      <td>11.866758</td>\n",
       "      <td>0.578277</td>\n",
       "      <td>1.309</td>\n",
       "      <td>13.175758</td>\n",
       "      <td>-0.730723</td>\n",
       "      <td>...</td>\n",
       "      <td>-0.728</td>\n",
       "      <td>11.439758</td>\n",
       "      <td>1.005277</td>\n",
       "      <td>0.514</td>\n",
       "      <td>11.953758</td>\n",
       "      <td>0.491277</td>\n",
       "      <td>0.177</td>\n",
       "      <td>12.130758</td>\n",
       "      <td>0.314277</td>\n",
       "      <td>-0.354</td>\n",
       "    </tr>\n",
       "    <tr>\n",
       "      <th>4</th>\n",
       "      <td>4</td>\n",
       "      <td>11.029748</td>\n",
       "      <td>16.422758</td>\n",
       "      <td>-5.393010</td>\n",
       "      <td>-4.556</td>\n",
       "      <td>11.866758</td>\n",
       "      <td>-0.837010</td>\n",
       "      <td>1.309</td>\n",
       "      <td>13.175758</td>\n",
       "      <td>-2.146010</td>\n",
       "      <td>...</td>\n",
       "      <td>-0.728</td>\n",
       "      <td>11.406758</td>\n",
       "      <td>-0.377010</td>\n",
       "      <td>0.514</td>\n",
       "      <td>11.920758</td>\n",
       "      <td>-0.891010</td>\n",
       "      <td>0.177</td>\n",
       "      <td>12.097758</td>\n",
       "      <td>-1.068010</td>\n",
       "      <td>-0.354</td>\n",
       "    </tr>\n",
       "  </tbody>\n",
       "</table>\n",
       "<p>5 rows × 302 columns</p>\n",
       "</div>"
      ],
      "text/plain": [
       "   Years     Salary         f0      y-f0     h1         f1      y-f1     h2  \\\n",
       "0      0  14.654698  16.422758 -1.768060 -4.556  11.866758  2.787940  1.309   \n",
       "1      1  13.727194  16.422758 -2.695564 -4.556  11.866758  1.860436  1.309   \n",
       "2      2  10.025226  16.422758 -6.397532 -4.556  11.866758 -1.841532  1.309   \n",
       "3      3  12.445035  16.422758 -3.977723 -4.556  11.866758  0.578277  1.309   \n",
       "4      4  11.029748  16.422758 -5.393010 -4.556  11.866758 -0.837010  1.309   \n",
       "\n",
       "          f2      y-f2  ...    h97        f97     y-f97    h98        f98  \\\n",
       "0  13.175758  1.478940  ... -0.728  14.188758  0.465940  0.514  14.702758   \n",
       "1  13.175758  0.551436  ... -0.728  12.638758  1.088436  0.514  13.152758   \n",
       "2  13.175758 -3.150532  ... -0.728   9.102758  0.922468  0.514   9.616758   \n",
       "3  13.175758 -0.730723  ... -0.728  11.439758  1.005277  0.514  11.953758   \n",
       "4  13.175758 -2.146010  ... -0.728  11.406758 -0.377010  0.514  11.920758   \n",
       "\n",
       "      y-f98    h99        f99     y-f99   h100  \n",
       "0 -0.048060  0.177  14.879758 -0.225060 -0.354  \n",
       "1  0.574436  0.177  13.329758  0.397436 -0.354  \n",
       "2  0.408468  0.177   9.793758  0.231468 -0.354  \n",
       "3  0.491277  0.177  12.130758  0.314277 -0.354  \n",
       "4 -0.891010  0.177  12.097758 -1.068010 -0.354  \n",
       "\n",
       "[5 rows x 302 columns]"
      ]
     },
     "execution_count": 16,
     "metadata": {},
     "output_type": "execute_result"
    }
   ],
   "source": [
    "df1 = df\n",
    "\n",
    "m = 100\n",
    "\n",
    "for i in range(m):\n",
    "    f = df.Salary.mean()\n",
    "    #print(str(i)+'th iteration ===> \\n')\n",
    "    \n",
    "    # Model:\n",
    "    # start from the mean salary (f0), and add the mean of the residual (h1) such as f1= f0 + h1\n",
    "    # ======\n",
    "    if(i>0):\n",
    "        # add mean  of the residual to the mean\n",
    "        df['f'+str(i)] = df['f'+str(i-1)] + df['h'+str(i)] \n",
    "        \n",
    "    else:\n",
    "        df['f'+str(i)] = f\n",
    "        \n",
    "    #print('f'+str(i)+' = ', df['f'+str(i)].to_numpy())  \n",
    "    \n",
    "    # residual\n",
    "    df['y-f'+str(i)] = df.Salary - df['f'+str(i)]\n",
    "    \n",
    "    #print('(y-f'+str(i)+') = ', df['y-f'+str(i)].to_numpy())\n",
    "    \n",
    "    # Binary Tree:\n",
    "    # =============\n",
    "    \n",
    "    # create a binary tree, by splitting the residual into random size\n",
    "    splitIndex = np.random.randint(len(df)-1)\n",
    "    #print('split index = ', splitIndex)\n",
    "     \n",
    "    # save the mean of each leaf in additive model h   \n",
    "    h_upper = df['y-f'+str(i)][0:splitIndex].mean()\n",
    "    upper = [round(h_upper,3) for j in range(splitIndex)] \n",
    "    \n",
    "    h_bottom = df['y-f'+str(i)][splitIndex:].mean()             \n",
    "    bottom = [round(h_bottom,3) for j in range(len(df) - splitIndex)] \n",
    "      \n",
    "    # save the mean of residuals from both leaves   \n",
    "    df['h'+str(i+1)] =  upper+bottom \n",
    "    #print( 'h'+str(i+1)+' = ',  upper+bottom, '\\n')\n",
    "    \n",
    "df.head()\n"
   ]
  },
  {
   "cell_type": "markdown",
   "metadata": {},
   "source": [
    "# Plot"
   ]
  },
  {
   "cell_type": "code",
   "execution_count": 17,
   "metadata": {},
   "outputs": [
    {
     "data": {
      "text/plain": [
       "<matplotlib.legend.Legend at 0x11d0f7320>"
      ]
     },
     "execution_count": 17,
     "metadata": {},
     "output_type": "execute_result"
    },
    {
     "data": {
      "image/png": "[encoded data removed]",
      "text/plain": [
       "<Figure size 1080x432 with 1 Axes>"
      ]
     },
     "metadata": {
      "needs_background": "light"
     },
     "output_type": "display_data"
    }
   ],
   "source": [
    "plt.figure(figsize=(15,6))\n",
    "plt.scatter(df.Years,df.Salary)\n",
    "plt.plot(df.Years,df.f1.to_numpy(),label = 'f1')\n",
    "plt.plot(df.Years,df.f30.to_numpy(),label = 'f30')\n",
    "plt.plot(df.Years,df.f99.to_numpy(),label = 'f99')\n",
    "plt.legend()"
   ]
  },
  {
   "cell_type": "markdown",
   "metadata": {},
   "source": [
    "#                                               END"
   ]
  },
  {
   "cell_type": "code",
   "execution_count": null,
   "metadata": {},
   "outputs": [],
   "source": [
    "from sklearn.ensemble import GradientBoostingClassifier\n",
    "\n",
    "\n"
   ]
  }
 ],
 "metadata": {
  "kernelspec": {
   "display_name": "Python 3",
   "language": "python",
   "name": "python3"
  },
  "language_info": {
   "codemirror_mode": {
    "name": "ipython",
    "version": 3
   },
   "file_extension": ".py",
   "mimetype": "text/x-python",
   "name": "python",
   "nbconvert_exporter": "python",
   "pygments_lexer": "ipython3",
   "version": "3.6.8"
  }
 },
 "nbformat": 4,
 "nbformat_minor": 2
}
