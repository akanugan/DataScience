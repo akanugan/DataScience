{
 "cells": [
  {
   "cell_type": "markdown",
   "metadata": {},
   "source": [
    "# TensorFlow\n",
    "Full tutorial from tensorflow website.\n",
    "https://www.tensorflow.org/guide/low_level_intro#training"
   ]
  },
  {
   "cell_type": "markdown",
   "metadata": {},
   "source": [
    "## Graph\n",
    "Build the computation graph, the blue print"
   ]
  },
  {
   "cell_type": "code",
   "execution_count": 2,
   "metadata": {},
   "outputs": [
    {
     "name": "stdout",
     "output_type": "stream",
     "text": [
      "Tensor(\"Const_2:0\", shape=(), dtype=float32)\n",
      "Tensor(\"Const_3:0\", shape=(), dtype=float32)\n",
      "Tensor(\"add_1:0\", shape=(), dtype=float32)\n"
     ]
    }
   ],
   "source": [
    "from __future__ import absolute_import\n",
    "from __future__ import division\n",
    "from __future__ import print_function\n",
    "\n",
    "import numpy as np\n",
    "import tensorflow as tf\n",
    "a = tf.constant(3.0, dtype=tf.float32)\n",
    "b = tf.constant(4.0) # also tf.float32 implicitly\n",
    "total = a + b\n",
    "print(a)\n",
    "print(b)\n",
    "print(total)\n"
   ]
  },
  {
   "cell_type": "markdown",
   "metadata": {},
   "source": [
    "## Tensor board\n",
    "A utility to visualize a computation graph."
   ]
  },
  {
   "cell_type": "code",
   "execution_count": 40,
   "metadata": {},
   "outputs": [],
   "source": [
    "writer = tf.summary.FileWriter('.')\n",
    "writer.add_graph(tf.get_default_graph())\n",
    "writer.flush()"
   ]
  },
  {
   "cell_type": "markdown",
   "metadata": {},
   "source": [
    "The output should be as shown below where last two extensions are { timestamp } and { hostname }\n",
    "    \n",
    "```events.out.tfevents.{1563999962}.{PHSX-CMS}```"
   ]
  },
  {
   "cell_type": "markdown",
   "metadata": {},
   "source": [
    "Then type in the terminal\n",
    "\n",
    "```tensorboard --logdir=data/ --host localhost --port 6006```\n",
    "\n",
    "Your terminal will show the output\n",
    "\n",
    "```TensorBoard 1.10.0 at http://localhost:6006 (Press CTRL+C to quit)```\n",
    "\n",
    "Then type the http address to your browser, and run the following in your terminal.\n",
    "\n",
    "```tensorboard --logdir .```\n",
    " \n",
    "Refresh the browser and you will see a graph. For my specific test, my browser node is <http://localhost:6006/#graphs&run=.>"
   ]
  },
  {
   "cell_type": "markdown",
   "metadata": {},
   "source": [
    "## Session\n",
    "\n",
    "A session runs ```TensorFlow``` operations."
   ]
  },
  {
   "cell_type": "code",
   "execution_count": 18,
   "metadata": {},
   "outputs": [
    {
     "name": "stdout",
     "output_type": "stream",
     "text": [
      "7.0\n"
     ]
    }
   ],
   "source": [
    "sess = tf.Session()\n",
    "print(sess.run(total))"
   ]
  },
  {
   "cell_type": "markdown",
   "metadata": {},
   "source": [
    "Now, one can write dictionary, list or tuple"
   ]
  },
  {
   "cell_type": "code",
   "execution_count": 5,
   "metadata": {},
   "outputs": [
    {
     "name": "stdout",
     "output_type": "stream",
     "text": [
      "{'ab': (3.0, 4.0), 'total': 7.0}\n"
     ]
    }
   ],
   "source": [
    "print(sess.run({'ab':(a, b), 'total':total}))"
   ]
  },
  {
   "cell_type": "code",
   "execution_count": 9,
   "metadata": {},
   "outputs": [
    {
     "name": "stdout",
     "output_type": "stream",
     "text": [
      "[0.9356557 0.3115723 0.8405701]\n",
      "[0.72359276 0.82833993 0.66773427] \n",
      "\n",
      "(array([1.8219849, 1.6984061, 1.2959051], dtype=float32), array([2.8219848, 2.6984062, 2.295905 ], dtype=float32))\n"
     ]
    }
   ],
   "source": [
    "vec = tf.random_uniform(shape=(3,)) #produce tf.Tensor (random 3-element vector with values in [0,1))\n",
    "print(sess.run(vec))\n",
    "print(sess.run(vec),'\\n')\n",
    "out1 = vec + 1\n",
    "out2 = vec + 2\n",
    "print(sess.run((out1, out2))) #consistent value during a single run"
   ]
  },
  {
   "cell_type": "markdown",
   "metadata": {},
   "source": [
    "## Feeding\n",
    "Parameterize a graph to accept external inputs, known as placeholders (equivalent of declaring a functions)"
   ]
  },
  {
   "cell_type": "code",
   "execution_count": 10,
   "metadata": {},
   "outputs": [],
   "source": [
    "x = tf.placeholder(tf.float32)\n",
    "y = tf.placeholder(tf.float32)\n",
    "z = x + y"
   ]
  },
  {
   "cell_type": "code",
   "execution_count": 11,
   "metadata": {},
   "outputs": [
    {
     "name": "stdout",
     "output_type": "stream",
     "text": [
      "7.5\n",
      "[3. 7.]\n"
     ]
    }
   ],
   "source": [
    "print(sess.run(z, feed_dict={x: 3, y: 4.5}))\n",
    "print(sess.run(z, feed_dict={x: [1, 3], y: [2, 4]}))"
   ]
  },
  {
   "cell_type": "markdown",
   "metadata": {},
   "source": [
    "## Datasets\n",
    "\n",
    "Placeholders work for simple experiments, but  ```tf.data``` are the preferred method of streaming data into a model."
   ]
  },
  {
   "cell_type": "code",
   "execution_count": 21,
   "metadata": {},
   "outputs": [
    {
     "name": "stdout",
     "output_type": "stream",
     "text": [
      "[0 1]\n",
      "[2 3]\n",
      "[4 5]\n",
      "[6 7]\n"
     ]
    }
   ],
   "source": [
    "my_data = [\n",
    "    [0, 1,],\n",
    "    [2, 3,],\n",
    "    [4, 5,],\n",
    "    [6, 7,],\n",
    "]\n",
    "slices = tf.data.Dataset.from_tensor_slices(my_data)#Dataset must be first converted into a tf.data.Iterator\n",
    "next_item = slices.make_one_shot_iterator().get_next()#Call the Iterator's tf.data.Iterator.get_next method.\n",
    "while True:\n",
    "  try:\n",
    "    print(sess.run(next_item))\n",
    "  except tf.errors.OutOfRangeError:\n",
    "    break"
   ]
  },
  {
   "cell_type": "code",
   "execution_count": 22,
   "metadata": {},
   "outputs": [
    {
     "name": "stdout",
     "output_type": "stream",
     "text": [
      "[ 0.20655905 -0.61874175 -0.41444466]\n",
      "[-0.817075   -0.34945825  1.0081652 ]\n",
      "[ 0.15904525 -1.0414507  -0.3472652 ]\n",
      "[-2.1826444  -0.77140415  0.8847609 ]\n",
      "[-0.06684798  0.5613106  -0.50886106]\n",
      "[-0.43571225  0.9264167  -1.0658191 ]\n",
      "[-0.17708409  1.1292535  -1.1213037 ]\n",
      "[-0.76154757  2.0042195   0.6748948 ]\n",
      "[-1.2873728 -0.2192565 -0.831202 ]\n",
      "[-0.5123091  0.9066346 -1.3900918]\n"
     ]
    }
   ],
   "source": [
    "r = tf.random_normal([10,3]) #shape=(10,3)\n",
    "dataset = tf.data.Dataset.from_tensor_slices(r)\n",
    "iterator = dataset.make_initializable_iterator()\n",
    "next_row = iterator.get_next()\n",
    "\n",
    "sess.run(iterator.initializer) #if Dataset depends on stateful operations\n",
    "while True:\n",
    "  try:\n",
    "    print(sess.run(next_row))\n",
    "  except tf.errors.OutOfRangeError:\n",
    "    break"
   ]
  },
  {
   "cell_type": "markdown",
   "metadata": {},
   "source": [
    "## Layers\n",
    "A method to modify the values in the graph to get new outputs with the same input in a trainable model. It adds trainable parameters to a graph by packing together both the variables and the operations that act on them."
   ]
  },
  {
   "cell_type": "code",
   "execution_count": 41,
   "metadata": {},
   "outputs": [
    {
     "name": "stdout",
     "output_type": "stream",
     "text": [
      "[[-0.78715086]\n",
      " [-0.5930755 ]]\n"
     ]
    }
   ],
   "source": [
    "# define a placeholder with a shape so a layer can build a weight matrix of the correct size\n",
    "x = tf.placeholder(tf.float32, shape=[None, 3])  \n",
    "# create a densely-connected layer (tf.layers.Dense) that takes a batch of input vectors, and \n",
    "# produces a single output value (weighted sum across all inputs, with optional activation function)\n",
    "linear_model = tf.layers.Dense(units=1)\n",
    "# call the layer as if it were a function\n",
    "y = linear_model(x)\n",
    "\n",
    "# initialize\n",
    "init = tf.global_variables_initializer() \n",
    "sess.run(init)\n",
    "\n",
    "# execute\n",
    "print(sess.run(y, {x: [[1, 2, 3],[4, 5, 6]]})) "
   ]
  },
  {
   "cell_type": "code",
   "execution_count": 42,
   "metadata": {},
   "outputs": [
    {
     "name": "stdout",
     "output_type": "stream",
     "text": [
      "[[2.095778 ]\n",
      " [5.2557964]]\n"
     ]
    }
   ],
   "source": [
    "# example of shortcut \n",
    "x = tf.placeholder(tf.float32, shape=[None, 3])\n",
    "# create and run the layer in a single call\n",
    "y = tf.layers.dense(x, units=1)\n",
    "\n",
    "# initialize\n",
    "init = tf.global_variables_initializer()\n",
    "sess.run(init)\n",
    "\n",
    "# execute\n",
    "print(sess.run(y, {x: [[1, 2, 3], [4, 5, 6]]}))"
   ]
  },
  {
   "cell_type": "markdown",
   "metadata": {},
   "source": [
    "Downfall: this approach allows no access to the ```tf.layers.Layer``` object. This makes introspection and debugging more difficult, and layer reuse impossible."
   ]
  },
  {
   "cell_type": "code",
   "execution_count": null,
   "metadata": {},
   "outputs": [],
   "source": []
  }
 ],
 "metadata": {
  "kernelspec": {
   "display_name": "Python 3",
   "language": "python",
   "name": "python3"
  },
  "language_info": {
   "codemirror_mode": {
    "name": "ipython",
    "version": 3
   },
   "file_extension": ".py",
   "mimetype": "text/x-python",
   "name": "python",
   "nbconvert_exporter": "python",
   "pygments_lexer": "ipython3",
   "version": "3.6.8"
  }
 },
 "nbformat": 4,
 "nbformat_minor": 2
}
